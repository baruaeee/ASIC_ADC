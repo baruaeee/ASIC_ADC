{
 "cells": [
  {
   "cell_type": "code",
   "execution_count": 8,
   "id": "7bf23970-85f4-42eb-bb1d-b4e73772694b",
   "metadata": {},
   "outputs": [],
   "source": [
    "import subprocess"
   ]
  },
  {
   "cell_type": "code",
   "execution_count": 9,
   "id": "01676d58-1efa-4179-9dc1-3e554695b513",
   "metadata": {},
   "outputs": [],
   "source": [
    "command = \"ls -l\""
   ]
  },
  {
   "cell_type": "code",
   "execution_count": 10,
   "id": "6c2e8284-1a34-41fc-9ade-7ab6ece657ef",
   "metadata": {},
   "outputs": [],
   "source": [
    "result = subprocess.run(command, shell=True, capture_output=True, text=True)"
   ]
  },
  {
   "cell_type": "code",
   "execution_count": 11,
   "id": "93cbab86-d737-4326-a531-74e7b26436a8",
   "metadata": {},
   "outputs": [
    {
     "name": "stdout",
     "output_type": "stream",
     "text": [
      "total 136\n",
      "-rw-rw-r-- 1 exotic exotic   850 Oct 12 17:53 lowpass.py\n",
      "-rw-rw-r-- 1 exotic exotic 15360 Oct 19 19:06 lyngspice.py\n",
      "-rw-rw-r-- 1 exotic exotic  1753 Oct 12 17:53 ngspice-interpreter.py\n",
      "drwxrwxr-x 2 exotic exotic  4096 Oct 19 19:08 __pycache__\n",
      "-rw-rw-r-- 1 exotic exotic    57 Oct 20 01:54 test.cir\n",
      "-rw-rw-r-- 1 exotic exotic  2293 Oct 20 12:00 test_lyngspice.ipynb\n",
      "-rw-rw-r-- 1 exotic exotic   984 Oct 18 17:57 test_script.cir\n",
      "-rw-rw-r-- 1 exotic exotic  2315 Oct 20 12:08 test_script.ipynb\n",
      "-rw-rw-r-- 1 exotic exotic 26851 Oct 18 19:10 test_script.raw\n",
      "-rw-rw-r-- 1 exotic exotic  2263 Oct 12 17:53 test_script.sch\n",
      "-rw-rw-r-- 1 exotic exotic 38560 Oct 18 19:42 Untitled.ipynb\n",
      "-rw-rw-r-- 1 exotic exotic 19251 Oct 12 17:53 xschemrc\n",
      "\n"
     ]
    }
   ],
   "source": [
    "print(result.stdout)"
   ]
  },
  {
   "cell_type": "code",
   "execution_count": null,
   "id": "bdb366ce-a7b9-4e30-be0d-c8ceedf5482c",
   "metadata": {},
   "outputs": [],
   "source": []
  }
 ],
 "metadata": {
  "kernelspec": {
   "display_name": "Python 3 (ipykernel)",
   "language": "python",
   "name": "python3"
  },
  "language_info": {
   "codemirror_mode": {
    "name": "ipython",
    "version": 3
   },
   "file_extension": ".py",
   "mimetype": "text/x-python",
   "name": "python",
   "nbconvert_exporter": "python",
   "pygments_lexer": "ipython3",
   "version": "3.10.12"
  }
 },
 "nbformat": 4,
 "nbformat_minor": 5
}
