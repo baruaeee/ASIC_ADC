{
 "cells": [
  {
   "cell_type": "code",
   "execution_count": 1,
   "id": "7bf23970-85f4-42eb-bb1d-b4e73772694b",
   "metadata": {},
   "outputs": [],
   "source": [
    "# include the function 'ng_run' in NG_RUN.py file\n",
    "from ipynb.fs.full.NG_LIB import ng_run, read_PL, read_PW, read_NL, read_NW, write_PL, write_vin"
   ]
  },
  {
   "cell_type": "code",
   "execution_count": 5,
   "id": "c9f2c42c-8e26-415a-8a38-ae3a9962f546",
   "metadata": {},
   "outputs": [
    {
     "name": "stdin",
     "output_type": "stream",
     "text": [
      "Enter file name:  test_script.spice\n"
     ]
    }
   ],
   "source": [
    "# prompt for selecting the netlist file\n",
    "file_path = input(\"Enter file name: \")"
   ]
  },
  {
   "cell_type": "code",
   "execution_count": 8,
   "id": "5c8601f8-ab55-46c0-8125-89ce1a19ecdc",
   "metadata": {},
   "outputs": [
    {
     "name": "stdout",
     "output_type": "stream",
     "text": [
      "PFET Length:\t0.16\n",
      "PFET Width:\t25.0\n",
      "NFET Length:\t25.0\n",
      "NFET Width:\t0.36\n"
     ]
    }
   ],
   "source": [
    "pfet_Length=read_PL(file_path)\n",
    "pfet_Width=read_PW(file_path)\n",
    "nfet_Length=read_NL(file_path)\n",
    "nfet_Width=read_NW(file_path)\n",
    "print(\"PFET Length:\\t\" + str(pfet_Length))\n",
    "print(\"PFET Width:\\t\" + str(pfet_Width))\n",
    "print(\"NFET Length:\\t\" + str(nfet_Length))\n",
    "print(\"NFET Width:\\t\" + str(nfet_Width))"
   ]
  },
  {
   "cell_type": "code",
   "execution_count": 7,
   "id": "d8b70587-014a-4c63-9bff-ae3e4b0058d9",
   "metadata": {},
   "outputs": [
    {
     "name": "stdin",
     "output_type": "stream",
     "text": [
      "Enter desired Vin:  0.3\n",
      "Which perameter to sweeped?\n",
      "1. PFET Length\n",
      "2. PFET Width\n",
      "3. NFET Length\n",
      "4. NFET Width\n",
      " 1\n",
      "Enter max. Length of PFET(um):  25\n",
      "Enter min. Length of PFET(um):  0.15\n",
      "Start simulation? (Y/N):  Y\n"
     ]
    }
   ],
   "source": [
    "Vin = input(\"Enter desired Vin: \")\n",
    "write_vin(file_path, Vin)\n",
    "Vout =1.8\n",
    "sel = input(\"Which perameter to sweeped?\\n1. PFET Length\\n2. PFET Width\\n3. NFET Length\\n4. NFET Width\\n\")\n",
    "if sel == '1':\n",
    "    PL_max = float(input(\"Enter max. Length of PFET(um): \"))\n",
    "    PL_min = float(input(\"Enter min. Length of PFET(um): \"))\n",
    "    run = input(\"Start simulation? (Y/N): \")\n",
    "    if run == 'Y':\n",
    "        while vout >= 0.5:\n",
    "            write_PL(file_path, str(pfet_Length), '0.16')\n",
    "elif sel == '2':\n",
    "    PW_max = float(input(\"Enter max. Width of PFET(um): \"))\n",
    "    PW_min = float(input(\"Enter min. Width of PFET(um): \"))\n",
    "elif sel == '3':\n",
    "    NL_max = float(input(\"Enter max. Length of NFET(um): \"))\n",
    "    NL_min = float(input(\"Enter min. Length of NFET(um): \"))\n",
    "elif sel == '4':\n",
    "    NW_max = float(input(\"Enter max. Width of NFET(um): \"))\n",
    "    NW_min = float(input(\"Enter min. Width of NFET(um): \"))\n",
    "else:\n",
    "    print(\"Invalid selection\")"
   ]
  },
  {
   "cell_type": "code",
   "execution_count": 11,
   "id": "d36d79c4-9d75-466c-858e-176ab3794564",
   "metadata": {},
   "outputs": [
    {
     "name": "stdin",
     "output_type": "stream",
     "text": [
      "Enter list of Vin separated by spases:  1.449466667 1.345933333 1.242400000 1.138866667 1.035333333 0.931800000 0.828266667 0.724733333 0.621200000 0.517666667 0.414133333 0.310600000 0.207066667 0.103533333\n"
     ]
    },
    {
     "name": "stdout",
     "output_type": "stream",
     "text": [
      "\n",
      "Vin list:  ['1.449466667', '1.345933333', '1.242400000', '1.138866667', '1.035333333', '0.931800000', '0.828266667', '0.724733333', '0.621200000', '0.517666667', '0.414133333', '0.310600000', '0.207066667', '0.103533333']\n"
     ]
    }
   ],
   "source": [
    "Vin = input(\"Enter list of Vin separated by spases: \")\n",
    "print(\"\\nVin list: \", Vin.split())"
   ]
  },
  {
   "cell_type": "code",
   "execution_count": 10,
   "id": "11ccccf7-fdde-4421-9d8a-c116bfadf5a9",
   "metadata": {},
   "outputs": [
    {
     "data": {
      "text/plain": [
       "1.8"
      ]
     },
     "execution_count": 10,
     "metadata": {},
     "output_type": "execute_result"
    }
   ],
   "source": [
    "ng_run(file_path, 'vout')"
   ]
  },
  {
   "cell_type": "code",
   "execution_count": null,
   "id": "b3b82226-e275-4a4c-9548-4264257a6b7a",
   "metadata": {},
   "outputs": [],
   "source": []
  },
  {
   "cell_type": "code",
   "execution_count": null,
   "id": "afec7f49-e083-4730-ad31-99541b06eea6",
   "metadata": {},
   "outputs": [],
   "source": []
  }
 ],
 "metadata": {
  "kernelspec": {
   "display_name": "Python 3 (ipykernel)",
   "language": "python",
   "name": "python3"
  },
  "language_info": {
   "codemirror_mode": {
    "name": "ipython",
    "version": 3
   },
   "file_extension": ".py",
   "mimetype": "text/x-python",
   "name": "python",
   "nbconvert_exporter": "python",
   "pygments_lexer": "ipython3",
   "version": "3.10.12"
  }
 },
 "nbformat": 4,
 "nbformat_minor": 5
}
