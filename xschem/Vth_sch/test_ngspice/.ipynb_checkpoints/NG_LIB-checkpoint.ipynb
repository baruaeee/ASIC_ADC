{
 "cells": [
  {
   "cell_type": "code",
   "execution_count": 15,
   "id": "fb9213f8-9186-497c-823b-dab287ebc6a3",
   "metadata": {},
   "outputs": [],
   "source": [
    "def read_PL(file):\n",
    "    try:\n",
    "        with open(file, 'r') as file:\n",
    "            for line in file:\n",
    "                if 'pfet' in line:\n",
    "                    pfet_Length = float(line.split('L=')[1].split()[0])\n",
    "    except FileNotFoundError:\n",
    "        print(f\"File not found: {file_path}\")\n",
    "    except Exception as e:\n",
    "        print(f\"An error occured: {e}\")\n",
    "    return pfet_Length\n",
    "                    "
   ]
  },
  {
   "cell_type": "code",
   "execution_count": null,
   "id": "085d7e37-a233-42ff-8926-c6272548ee2e",
   "metadata": {},
   "outputs": [],
   "source": [
    "def write_PL(file, CV, NV):\n",
    "    with open(file, 'r+') as file:\n",
    "        for line in file:\n",
    "            if 'pfet' in line:\n",
    "                line.replace('W='+CV, 'W='+NV)\n",
    "            file.writelines(line)"
   ]
  },
  {
   "cell_type": "code",
   "execution_count": 4,
   "id": "6d981903-5166-4ee9-8d9c-a56a22083061",
   "metadata": {},
   "outputs": [],
   "source": [
    "def read_PW(file):\n",
    "    try:\n",
    "        with open(file, 'r') as file:\n",
    "            for line in file:\n",
    "                if 'pfet' in line:\n",
    "                    pfet_Width = float(line.split('W=')[1].split()[0])\n",
    "    except FileNotFoundError:\n",
    "        print(f\"File not found: {file_path}\")\n",
    "    except Exception as e:\n",
    "        print(f\"An error occured: {e}\")\n",
    "    return pfet_Width"
   ]
  },
  {
   "cell_type": "code",
   "execution_count": 20,
   "id": "7bf23970-85f4-42eb-bb1d-b4e73772694b",
   "metadata": {},
   "outputs": [],
   "source": [
    "def read_NL(file):\n",
    "    try:\n",
    "        with open(file, 'r') as file:\n",
    "            for line in file:\n",
    "                if 'nfet' in line:\n",
    "                    nfet_Length = float(line.split('L=')[1].split()[0])\n",
    "    except FileNotFoundError:\n",
    "        print(f\"File not found: {file_path}\")\n",
    "    except Exception as e:\n",
    "        print(f\"An error occured: {e}\")\n",
    "    return nfet_Length"
   ]
  },
  {
   "cell_type": "code",
   "execution_count": 19,
   "id": "a528be08-f0f2-4aeb-aeb7-6033be5797e8",
   "metadata": {},
   "outputs": [],
   "source": [
    "def read_NW(file):\n",
    "    try:\n",
    "        with open(file, 'r') as file:\n",
    "            for line in file:\n",
    "                if 'nfet' in line:\n",
    "                    nfet_Width = float(line.split('W=')[1].split()[0])\n",
    "    except FileNotFoundError:\n",
    "        print(f\"File not found: {file_path}\")\n",
    "    except Exception as e:\n",
    "        print(f\"An error occured: {e}\")\n",
    "    return nfet_Width"
   ]
  },
  {
   "cell_type": "code",
   "execution_count": null,
   "id": "c80c38f6-6128-4233-b7ff-e5db1ec3d569",
   "metadata": {},
   "outputs": [],
   "source": [
    "def ng_run(file, result):\n",
    "    import subprocess\n",
    "    \n",
    "    # Run the ngspice command\n",
    "    #ngspice_command = ['ngspice', '-i', '-a', 'res-script.spice']\n",
    "    ngspice_command = ['ngspice', '-i', '-a', file]\n",
    "    ngspice_process = subprocess.Popen(ngspice_command, stdin=subprocess.PIPE, stdout=subprocess.PIPE, stderr=subprocess.PIPE, universal_newlines=True)\n",
    "    \n",
    "    # Pass a command to the ngspice console\n",
    "    command_to_ngspice = 'print ' + result + '\\n'\n",
    "    ngspice_process.stdin.write(command_to_ngspice)\n",
    "    #command_to_ngspice1 = 'print all\\n'\n",
    "    #ngspice_process.stdin.write(command_to_ngspice1)\n",
    "    ngspice_process.stdin.flush()\n",
    "    \n",
    "    # Read the output from ngspice\n",
    "    output, error = ngspice_process.communicate()\n",
    "    \n",
    "    # Read the output and extract the desired data\n",
    "    lines = output.splitlines()\n",
    "    line_index = [index for index, line in enumerate(lines) if line.startswith(result)]\n",
    "    # print(line_index)\n",
    "    desired_line = lines[line_index[0]]  # Assuming the desired line is at index 19\n",
    "    # print(\"Desired data line:\", desired_line)\n",
    "    \n",
    "    #Extract the specific data from the desired line\n",
    "    data = float(desired_line.split('=')[1].strip())  # Assuming the data is after the '='\n",
    "    \n",
    "    # print(\"Desired data:\", float(data))\n",
    "    return data\n",
    "\n",
    "# ng_run('res-script.spice', 'vout')"
   ]
  }
 ],
 "metadata": {
  "kernelspec": {
   "display_name": "Python 3 (ipykernel)",
   "language": "python",
   "name": "python3"
  },
  "language_info": {
   "codemirror_mode": {
    "name": "ipython",
    "version": 3
   },
   "file_extension": ".py",
   "mimetype": "text/x-python",
   "name": "python",
   "nbconvert_exporter": "python",
   "pygments_lexer": "ipython3",
   "version": "3.10.12"
  }
 },
 "nbformat": 4,
 "nbformat_minor": 5
}
