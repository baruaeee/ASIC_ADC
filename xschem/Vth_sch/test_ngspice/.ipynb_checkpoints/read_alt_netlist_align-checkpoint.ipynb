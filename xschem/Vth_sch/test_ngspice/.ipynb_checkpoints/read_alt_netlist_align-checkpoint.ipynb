{
 "cells": [
  {
   "cell_type": "code",
   "execution_count": 1,
   "id": "6a429f81-1c33-45e1-b6fa-5d95cf58107e",
   "metadata": {},
   "outputs": [],
   "source": [
    "import re"
   ]
  },
  {
   "cell_type": "code",
   "execution_count": 2,
   "id": "1a1e45d6-e769-4181-b8ea-c7208e428e87",
   "metadata": {},
   "outputs": [],
   "source": [
    "file_location = 'th02.sp'"
   ]
  },
  {
   "cell_type": "code",
   "execution_count": 5,
   "id": "21975984-f4c9-47c7-9b6a-6a0799f68fbe",
   "metadata": {},
   "outputs": [],
   "source": [
    "with open(file_location, 'r+') as file:\n",
    "    lines = file.readlines()\n",
    "    file.seek(0)\n",
    "    file.truncate()\n",
    "    filtered_lines = [line for line in lines if not line.startswith('+')]\n",
    "            # print(lines[i])\n",
    "    file.writelines(filtered_lines)\n",
    "    file.close()"
   ]
  },
  {
   "cell_type": "code",
   "execution_count": 6,
   "id": "b06f335e-9bfc-489a-9277-8e23e22cd54c",
   "metadata": {},
   "outputs": [],
   "source": [
    "with open(file_location, 'r+') as file:\n",
    "    lines = file.readlines()\n",
    "    file.seek(0)\n",
    "    file.truncate()\n",
    "    filtered_lines = [line for line in lines if not line.startswith('*')]\n",
    "            # print(lines[i])\n",
    "    file.writelines(filtered_lines)\n",
    "    file.close()"
   ]
  },
  {
   "cell_type": "code",
   "execution_count": 4,
   "id": "1fd6f9ae-b07a-40dc-8946-cc0b8dcc9b1b",
   "metadata": {},
   "outputs": [
    {
     "ename": "NameError",
     "evalue": "name 'check_lines' is not defined",
     "output_type": "error",
     "traceback": [
      "\u001b[0;31m---------------------------------------------------------------------------\u001b[0m",
      "\u001b[0;31mNameError\u001b[0m                                 Traceback (most recent call last)",
      "Cell \u001b[0;32mIn[4], line 5\u001b[0m\n\u001b[1;32m      3\u001b[0m file\u001b[38;5;241m.\u001b[39mseek(\u001b[38;5;241m0\u001b[39m)\n\u001b[1;32m      4\u001b[0m file\u001b[38;5;241m.\u001b[39mtruncate()\n\u001b[0;32m----> 5\u001b[0m \u001b[43mcheck_lines\u001b[49m()\n\u001b[1;32m      6\u001b[0m check_lines()\n\u001b[1;32m      7\u001b[0m \u001b[38;5;66;03m#pattern = r\"_(.+?)_\"\u001b[39;00m\n",
      "\u001b[0;31mNameError\u001b[0m: name 'check_lines' is not defined"
     ]
    }
   ],
   "source": [
    "with open(file_location, 'r+') as file:\n",
    "    lines = file.readlines()\n",
    "    file.seek(0)\n",
    "    file.truncate()\n",
    "    #check_lines()\n",
    "    #check_lines()\n",
    "    #pattern = r\"_(.+?)_\"\n",
    "    pattern = r\"nf=\\d+\"\n",
    "    #pattern1 = r\"\\+\"\n",
    "    #pattern2 = r\"_(.+?)_\"\n",
    "    \n",
    "    #print(lines)\n",
    "    for i, line in enumerate(lines):\n",
    "        num = re.search(pattern, line)          \n",
    "        if num:\n",
    "            lines[i]=line.split(' ad=')[0] + '\\n'\n",
    "            #print(lines[i])\n",
    "\n",
    "    file.writelines(lines)\n",
    "    file.close()"
   ]
  },
  {
   "cell_type": "code",
   "execution_count": 4,
   "id": "0a3d794d-7750-40a3-8f8d-36943c93692d",
   "metadata": {},
   "outputs": [],
   "source": [
    "with open(file_location, 'r+') as file:\n",
    "    lines = file.readlines()\n",
    "    file.seek(0)\n",
    "    file.truncate()\n",
    "    for  i, line in enumerate(lines):\n",
    "        if 'pfet' in line or 'nfet' in line:\n",
    "            W = line.split('W=')[1].split()[0]\n",
    "            W_n = round(float(W)*1000, 3)\n",
    "            lines[i]=line.replace('W='+ str(W),'W='+ str(W_n)+'e-9')\n",
    "            # print(lines[i])\n",
    "    file.writelines(lines)\n",
    "    file.close()"
   ]
  },
  {
   "cell_type": "code",
   "execution_count": 5,
   "id": "8a5fa5b6-0f3d-45d1-a7b4-cee2fa86eb5e",
   "metadata": {},
   "outputs": [],
   "source": [
    "with open(file_location, 'r+') as file:\n",
    "    lines = file.readlines()\n",
    "    file.seek(0)\n",
    "    file.truncate()\n",
    "    for  i, line in enumerate(lines):\n",
    "        if 'pfet' in line or 'nfet' in line:\n",
    "            L = line.split('L=')[1].split()[0]\n",
    "            L_n = round(float(L)*1000, 3)\n",
    "            lines[i]=line.replace('L='+ str(L),'L='+ str(W_n)+'e-9')\n",
    "            # print(lines[i])\n",
    "    file.writelines(lines)\n",
    "    file.close()"
   ]
  },
  {
   "cell_type": "code",
   "execution_count": null,
   "id": "8626b752-6af9-4cc2-9be5-92b5924e0f3d",
   "metadata": {},
   "outputs": [],
   "source": []
  }
 ],
 "metadata": {
  "kernelspec": {
   "display_name": "Python 3 (ipykernel)",
   "language": "python",
   "name": "python3"
  },
  "language_info": {
   "codemirror_mode": {
    "name": "ipython",
    "version": 3
   },
   "file_extension": ".py",
   "mimetype": "text/x-python",
   "name": "python",
   "nbconvert_exporter": "python",
   "pygments_lexer": "ipython3",
   "version": "3.10.12"
  }
 },
 "nbformat": 4,
 "nbformat_minor": 5
}
