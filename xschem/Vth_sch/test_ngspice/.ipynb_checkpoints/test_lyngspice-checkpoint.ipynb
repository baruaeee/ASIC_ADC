{
 "cells": [
  {
   "cell_type": "code",
   "execution_count": 1,
   "id": "7bf23970-85f4-42eb-bb1d-b4e73772694b",
   "metadata": {},
   "outputs": [],
   "source": [
    "from lyngspice import NgSpice"
   ]
  },
  {
   "cell_type": "code",
   "execution_count": 2,
   "id": "01676d58-1efa-4179-9dc1-3e554695b513",
   "metadata": {},
   "outputs": [],
   "source": [
    "ng = NgSpice()"
   ]
  },
  {
   "cell_type": "code",
   "execution_count": 3,
   "id": "6c2e8284-1a34-41fc-9ade-7ab6ece657ef",
   "metadata": {},
   "outputs": [],
   "source": [
    "data, unit = ng.run('test.cir')"
   ]
  },
  {
   "cell_type": "code",
   "execution_count": 4,
   "id": "93cbab86-d737-4326-a531-74e7b26436a8",
   "metadata": {},
   "outputs": [
    {
     "name": "stdout",
     "output_type": "stream",
     "text": [
      "Analyses: ['op1', 'const']\n"
     ]
    }
   ],
   "source": [
    "print(\"Analyses: \" + str(list(data.keys())))"
   ]
  },
  {
   "cell_type": "code",
   "execution_count": 5,
   "id": "457fe049-c597-49db-a063-d5c074b9c3f8",
   "metadata": {},
   "outputs": [],
   "source": [
    "data_op1 = data['op1']"
   ]
  },
  {
   "cell_type": "code",
   "execution_count": 6,
   "id": "de936fe1-57f8-4105-91d0-f1d35d398d2b",
   "metadata": {},
   "outputs": [],
   "source": [
    "data_op1 = data.op1"
   ]
  },
  {
   "cell_type": "code",
   "execution_count": 7,
   "id": "7280dacd-f72f-4b9f-97e2-0bb8c0f717dd",
   "metadata": {},
   "outputs": [
    {
     "name": "stdout",
     "output_type": "stream",
     "text": [
      "{'vg#branch': array([-0.01]), 'V(2)': array([0.5]), 'V(1)': array([1.])}\n"
     ]
    }
   ],
   "source": [
    "print(data_op1)"
   ]
  },
  {
   "cell_type": "code",
   "execution_count": null,
   "id": "bdb366ce-a7b9-4e30-be0d-c8ceedf5482c",
   "metadata": {},
   "outputs": [],
   "source": []
  }
 ],
 "metadata": {
  "kernelspec": {
   "display_name": "Python 3 (ipykernel)",
   "language": "python",
   "name": "python3"
  },
  "language_info": {
   "codemirror_mode": {
    "name": "ipython",
    "version": 3
   },
   "file_extension": ".py",
   "mimetype": "text/x-python",
   "name": "python",
   "nbconvert_exporter": "python",
   "pygments_lexer": "ipython3",
   "version": "3.10.12"
  }
 },
 "nbformat": 4,
 "nbformat_minor": 5
}
