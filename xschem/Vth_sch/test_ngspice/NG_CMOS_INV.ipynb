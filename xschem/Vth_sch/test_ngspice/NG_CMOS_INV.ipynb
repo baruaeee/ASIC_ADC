{
 "cells": [
  {
   "cell_type": "code",
   "execution_count": 19,
   "id": "7bf23970-85f4-42eb-bb1d-b4e73772694b",
   "metadata": {},
   "outputs": [],
   "source": [
    "# include the function 'ng_run' in NG_RUN.py file\n",
    "from NG_RUN import ng_run"
   ]
  },
  {
   "cell_type": "code",
   "execution_count": 20,
   "id": "c9f2c42c-8e26-415a-8a38-ae3a9962f546",
   "metadata": {},
   "outputs": [
    {
     "name": "stdin",
     "output_type": "stream",
     "text": [
      "Enter file name:  test_script.spice\n"
     ]
    }
   ],
   "source": [
    "# prompt for selecting the netlist file\n",
    "file_path = input(\"Enter file name: \")"
   ]
  },
  {
   "cell_type": "code",
   "execution_count": 55,
   "id": "e559b4ac-e05d-4d10-a17f-9f62b6e92b2b",
   "metadata": {},
   "outputs": [
    {
     "name": "stdout",
     "output_type": "stream",
     "text": [
      "0.15um\n",
      "25.0um\n",
      "25.0um\n",
      "0.36um\n",
      "XM1 Vout Vin VDD net1 sky130_fd_pr__pfet_01v8 L=0.15 W=25 nf=1 ad='int((nf+1)/2) * W/nf * 0.29' as='int((nf+2)/2) * W/nf * 0.29'\n",
      "\n",
      "XM2 Vout Vin GND net2 sky130_fd_pr__nfet_01v8 L=25 W=0.36 nf=1 ad='int((nf+1)/2) * W/nf * 0.29' as='int((nf+2)/2) * W/nf * 0.29'\n",
      "\n"
     ]
    }
   ],
   "source": [
    "# open the file in read mode ('r')\n",
    "try:\n",
    "    # with open(file_path, 'r') as file: # Open in read mode\n",
    "    with open(file_path, 'r+') as file: # Open in read-write mode \n",
    "        # ----read the file content into a variable----\n",
    "        '''\n",
    "        # file_contents = file.read()\n",
    "        # print(file_contents)\n",
    "        '''\n",
    "\n",
    "        \n",
    "        # ----read the file line by line----\n",
    "        '''\n",
    "        for line in file:\n",
    "            if 'pfet' in line and 'w=':\n",
    "                pfet_Length = float(line.split('L=')[1].split()[0])\n",
    "                pfet_Width = float(line.split('W=')[1].split()[0])\n",
    "                print(str(pfet_Length) + \"um\")\n",
    "                print(str(pfet_Width) + \"um\")\n",
    "            elif 'nfet' in line and 'w=':\n",
    "                nfet_Length = float(line.split('L=')[1].split()[0])\n",
    "                nfet_Width = float(line.split('W=')[1].split()[0])\n",
    "                print(str(nfet_Length) + \"um\")\n",
    "                print(str(nfet_Width) + \"um\")\n",
    "        '''\n",
    "        # ----Replace length/width on the file----\n",
    "        for line in file:\n",
    "            if 'pfet' in line:\n",
    "                pfet_Length = float(line.split('L=')[1].split()[0])\n",
    "                pfet_Width = float(line.split('W=')[1].split()[0])\n",
    "                print(str(pfet_Length) + \"um\")\n",
    "                print(str(pfet_Width) + \"um\")\n",
    "            elif 'nfet' in line:\n",
    "                nfet_Length = float(line.split('L=')[1].split()[0])\n",
    "                nfet_Width = float(line.split('W=')[1].split()[0])\n",
    "                print(str(nfet_Length) + \"um\")\n",
    "                print(str(nfet_Width) + \"um\")\n",
    "        \n",
    "except FileNotFoundError:\n",
    "    print(f\"File not found: {file_path}\")\n",
    "except Exception as e:\n",
    "    print(f\"An error occured: {e}\")\n",
    "print(pfet_line)\n",
    "print(nfet_line)"
   ]
  },
  {
   "cell_type": "code",
   "execution_count": 54,
   "id": "11ccccf7-fdde-4421-9d8a-c116bfadf5a9",
   "metadata": {},
   "outputs": [
    {
     "data": {
      "text/plain": [
       "1.8"
      ]
     },
     "execution_count": 54,
     "metadata": {},
     "output_type": "execute_result"
    }
   ],
   "source": [
    "ng_run(file_path, 'vout')"
   ]
  },
  {
   "cell_type": "code",
   "execution_count": null,
   "id": "b3b82226-e275-4a4c-9548-4264257a6b7a",
   "metadata": {},
   "outputs": [],
   "source": []
  }
 ],
 "metadata": {
  "kernelspec": {
   "display_name": "Python 3 (ipykernel)",
   "language": "python",
   "name": "python3"
  },
  "language_info": {
   "codemirror_mode": {
    "name": "ipython",
    "version": 3
   },
   "file_extension": ".py",
   "mimetype": "text/x-python",
   "name": "python",
   "nbconvert_exporter": "python",
   "pygments_lexer": "ipython3",
   "version": "3.10.12"
  }
 },
 "nbformat": 4,
 "nbformat_minor": 5
}
