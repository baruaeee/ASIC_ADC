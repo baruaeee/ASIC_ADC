{
 "cells": [
  {
   "cell_type": "code",
   "execution_count": 18,
   "id": "7bf23970-85f4-42eb-bb1d-b4e73772694b",
   "metadata": {},
   "outputs": [
    {
     "ename": "ImportError",
     "evalue": "cannot import name 'write_NW' from 'ipynb.fs.full.NG_LIB' (unknown location)",
     "output_type": "error",
     "traceback": [
      "\u001b[0;31m---------------------------------------------------------------------------\u001b[0m",
      "\u001b[0;31mImportError\u001b[0m                               Traceback (most recent call last)",
      "Cell \u001b[0;32mIn[18], line 2\u001b[0m\n\u001b[1;32m      1\u001b[0m \u001b[38;5;66;03m# include the function 'ng_run' in NG_RUN.py file\u001b[39;00m\n\u001b[0;32m----> 2\u001b[0m \u001b[38;5;28;01mfrom\u001b[39;00m \u001b[38;5;21;01mipynb\u001b[39;00m\u001b[38;5;21;01m.\u001b[39;00m\u001b[38;5;21;01mfs\u001b[39;00m\u001b[38;5;21;01m.\u001b[39;00m\u001b[38;5;21;01mfull\u001b[39;00m\u001b[38;5;21;01m.\u001b[39;00m\u001b[38;5;21;01mNG_LIB\u001b[39;00m \u001b[38;5;28;01mimport\u001b[39;00m ng_run, read_PL, read_PW, read_NL, read_NW, write_PL, write_PW, write_NL, write_NW, write_vin\n",
      "\u001b[0;31mImportError\u001b[0m: cannot import name 'write_NW' from 'ipynb.fs.full.NG_LIB' (unknown location)"
     ]
    }
   ],
   "source": [
    "# include the function 'ng_run' in NG_RUN.py file\n",
    "from ipynb.fs.full.NG_LIB import ng_run, read_PL, read_PW, read_NL, read_NW, write_PL, write_PW, write_NL, write_NW, write_vin"
   ]
  },
  {
   "cell_type": "code",
   "execution_count": 3,
   "id": "c9f2c42c-8e26-415a-8a38-ae3a9962f546",
   "metadata": {},
   "outputs": [
    {
     "name": "stdin",
     "output_type": "stream",
     "text": [
      "Enter file name:  test_script.spice\n"
     ]
    }
   ],
   "source": [
    "# prompt for selecting the netlist file\n",
    "file_path = input(\"Enter file name: \")"
   ]
  },
  {
   "cell_type": "code",
   "execution_count": 8,
   "id": "5c8601f8-ab55-46c0-8125-89ce1a19ecdc",
   "metadata": {},
   "outputs": [
    {
     "name": "stdout",
     "output_type": "stream",
     "text": [
      "PFET Length:\t0.15\n",
      "PFET Width:\t25.0\n",
      "NFET Length:\t25.0\n",
      "NFET Width:\t0.36\n"
     ]
    }
   ],
   "source": [
    "pfet_Length=read_PL(file_path)\n",
    "pfet_Width=read_PW(file_path)\n",
    "nfet_Length=read_NL(file_path)\n",
    "nfet_Width=read_NW(file_path)\n",
    "print(\"PFET Length:\\t\" + str(pfet_Length))\n",
    "print(\"PFET Width:\\t\" + str(pfet_Width))\n",
    "print(\"NFET Length:\\t\" + str(nfet_Length))\n",
    "print(\"NFET Width:\\t\" + str(nfet_Width))"
   ]
  },
  {
   "cell_type": "code",
   "execution_count": null,
   "id": "d8b70587-014a-4c63-9bff-ae3e4b0058d9",
   "metadata": {},
   "outputs": [
    {
     "name": "stdin",
     "output_type": "stream",
     "text": [
      "!!!To keep the operation simple, the write operation only work well with floating value!!!\n",
      "Enter desired Vin:  1.345933333\n"
     ]
    },
    {
     "name": "stdout",
     "output_type": "stream",
     "text": [
      "Current Vout:  0.4424665\n"
     ]
    },
    {
     "name": "stdin",
     "output_type": "stream",
     "text": [
      "Enter step size:  0.01\n",
      "Which perameter to sweeped?\n",
      "1. PFET Length\n",
      "2. PFET Width\n",
      "3. NFET Length\n",
      "4. NFET Width\n",
      " 2\n",
      "Enter max. Width (<25) of PFET(um):  10\n",
      "Enter min. Width (>0.42) of PFET(um):  6\n",
      "Ascending or Descending? (A/D):  A\n"
     ]
    },
    {
     "name": "stdout",
     "output_type": "stream",
     "text": [
      "XM1 Vout Vin VDD net1 sky130_fd_pr__pfet_01v8 L=0.15 W=6.0 nf=1 ad='int((nf+1)/2) * W/nf * 0.29' as='int((nf+2)/2) * W/nf * 0.29'\n",
      "\n",
      "0.4424665 6.0\n",
      "XM1 Vout Vin VDD net1 sky130_fd_pr__pfet_01v8 L=0.15 W=6.01 nf=1 ad='int((nf+1)/2) * W/nf * 0.29' as='int((nf+2)/2) * W/nf * 0.29'\n",
      "\n",
      "0.443107 6.01\n",
      "XM1 Vout Vin VDD net1 sky130_fd_pr__pfet_01v8 L=0.15 W=6.02 nf=1 ad='int((nf+1)/2) * W/nf * 0.29' as='int((nf+2)/2) * W/nf * 0.29'\n",
      "\n",
      "0.443747 6.02\n",
      "XM1 Vout Vin VDD net1 sky130_fd_pr__pfet_01v8 L=0.15 W=6.029999999999999 nf=1 ad='int((nf+1)/2) * W/nf * 0.29' as='int((nf+2)/2) * W/nf * 0.29'\n",
      "\n",
      "0.4443856 6.029999999999999\n",
      "XM1 Vout Vin VDD net1 sky130_fd_pr__pfet_01v8 L=0.15 W=6.039999999999999 nf=1 ad='int((nf+1)/2) * W/nf * 0.29' as='int((nf+2)/2) * W/nf * 0.29'\n",
      "\n",
      "0.4450228 6.039999999999999\n",
      "XM1 Vout Vin VDD net1 sky130_fd_pr__pfet_01v8 L=0.15 W=6.049999999999999 nf=1 ad='int((nf+1)/2) * W/nf * 0.29' as='int((nf+2)/2) * W/nf * 0.29'\n",
      "\n",
      "0.4456587 6.049999999999999\n",
      "XM1 Vout Vin VDD net1 sky130_fd_pr__pfet_01v8 L=0.15 W=6.059999999999999 nf=1 ad='int((nf+1)/2) * W/nf * 0.29' as='int((nf+2)/2) * W/nf * 0.29'\n",
      "\n",
      "0.4462931 6.059999999999999\n",
      "XM1 Vout Vin VDD net1 sky130_fd_pr__pfet_01v8 L=0.15 W=6.0699999999999985 nf=1 ad='int((nf+1)/2) * W/nf * 0.29' as='int((nf+2)/2) * W/nf * 0.29'\n",
      "\n",
      "0.4469272 6.0699999999999985\n",
      "XM1 Vout Vin VDD net1 sky130_fd_pr__pfet_01v8 L=0.15 W=6.079999999999998 nf=1 ad='int((nf+1)/2) * W/nf * 0.29' as='int((nf+2)/2) * W/nf * 0.29'\n",
      "\n",
      "0.4475593 6.079999999999998\n",
      "XM1 Vout Vin VDD net1 sky130_fd_pr__pfet_01v8 L=0.15 W=6.089999999999998 nf=1 ad='int((nf+1)/2) * W/nf * 0.29' as='int((nf+2)/2) * W/nf * 0.29'\n",
      "\n",
      "0.4481903 6.089999999999998\n",
      "XM1 Vout Vin VDD net1 sky130_fd_pr__pfet_01v8 L=0.15 W=6.099999999999998 nf=1 ad='int((nf+1)/2) * W/nf * 0.29' as='int((nf+2)/2) * W/nf * 0.29'\n",
      "\n",
      "0.4488205 6.099999999999998\n",
      "XM1 Vout Vin VDD net1 sky130_fd_pr__pfet_01v8 L=0.15 W=6.109999999999998 nf=1 ad='int((nf+1)/2) * W/nf * 0.29' as='int((nf+2)/2) * W/nf * 0.29'\n",
      "\n",
      "0.4494489 6.109999999999998\n",
      "XM1 Vout Vin VDD net1 sky130_fd_pr__pfet_01v8 L=0.15 W=6.119999999999997 nf=1 ad='int((nf+1)/2) * W/nf * 0.29' as='int((nf+2)/2) * W/nf * 0.29'\n",
      "\n",
      "0.4500765 6.119999999999997\n",
      "XM1 Vout Vin VDD net1 sky130_fd_pr__pfet_01v8 L=0.15 W=6.129999999999997 nf=1 ad='int((nf+1)/2) * W/nf * 0.29' as='int((nf+2)/2) * W/nf * 0.29'\n",
      "\n",
      "0.4507032 6.129999999999997\n",
      "XM1 Vout Vin VDD net1 sky130_fd_pr__pfet_01v8 L=0.15 W=6.139999999999997 nf=1 ad='int((nf+1)/2) * W/nf * 0.29' as='int((nf+2)/2) * W/nf * 0.29'\n",
      "\n",
      "0.4513286 6.139999999999997\n",
      "XM1 Vout Vin VDD net1 sky130_fd_pr__pfet_01v8 L=0.15 W=6.149999999999997 nf=1 ad='int((nf+1)/2) * W/nf * 0.29' as='int((nf+2)/2) * W/nf * 0.29'\n",
      "\n",
      "0.4519529 6.149999999999997\n",
      "XM1 Vout Vin VDD net1 sky130_fd_pr__pfet_01v8 L=0.15 W=6.159999999999997 nf=1 ad='int((nf+1)/2) * W/nf * 0.29' as='int((nf+2)/2) * W/nf * 0.29'\n",
      "\n",
      "0.4525751 6.159999999999997\n",
      "XM1 Vout Vin VDD net1 sky130_fd_pr__pfet_01v8 L=0.15 W=6.169999999999996 nf=1 ad='int((nf+1)/2) * W/nf * 0.29' as='int((nf+2)/2) * W/nf * 0.29'\n",
      "\n",
      "0.4531972 6.169999999999996\n",
      "XM1 Vout Vin VDD net1 sky130_fd_pr__pfet_01v8 L=0.15 W=6.179999999999996 nf=1 ad='int((nf+1)/2) * W/nf * 0.29' as='int((nf+2)/2) * W/nf * 0.29'\n",
      "\n",
      "0.4538181 6.179999999999996\n",
      "XM1 Vout Vin VDD net1 sky130_fd_pr__pfet_01v8 L=0.15 W=6.189999999999996 nf=1 ad='int((nf+1)/2) * W/nf * 0.29' as='int((nf+2)/2) * W/nf * 0.29'\n",
      "\n",
      "0.4544371 6.189999999999996\n",
      "XM1 Vout Vin VDD net1 sky130_fd_pr__pfet_01v8 L=0.15 W=6.199999999999996 nf=1 ad='int((nf+1)/2) * W/nf * 0.29' as='int((nf+2)/2) * W/nf * 0.29'\n",
      "\n",
      "0.4550555 6.199999999999996\n",
      "XM1 Vout Vin VDD net1 sky130_fd_pr__pfet_01v8 L=0.15 W=6.2099999999999955 nf=1 ad='int((nf+1)/2) * W/nf * 0.29' as='int((nf+2)/2) * W/nf * 0.29'\n",
      "\n",
      "0.4556722 6.2099999999999955\n",
      "XM1 Vout Vin VDD net1 sky130_fd_pr__pfet_01v8 L=0.15 W=6.219999999999995 nf=1 ad='int((nf+1)/2) * W/nf * 0.29' as='int((nf+2)/2) * W/nf * 0.29'\n",
      "\n",
      "0.4562887 6.219999999999995\n",
      "XM1 Vout Vin VDD net1 sky130_fd_pr__pfet_01v8 L=0.15 W=6.229999999999995 nf=1 ad='int((nf+1)/2) * W/nf * 0.29' as='int((nf+2)/2) * W/nf * 0.29'\n",
      "\n",
      "0.4569032 6.229999999999995\n",
      "XM1 Vout Vin VDD net1 sky130_fd_pr__pfet_01v8 L=0.15 W=6.239999999999995 nf=1 ad='int((nf+1)/2) * W/nf * 0.29' as='int((nf+2)/2) * W/nf * 0.29'\n",
      "\n",
      "0.4575169 6.239999999999995\n",
      "XM1 Vout Vin VDD net1 sky130_fd_pr__pfet_01v8 L=0.15 W=6.249999999999995 nf=1 ad='int((nf+1)/2) * W/nf * 0.29' as='int((nf+2)/2) * W/nf * 0.29'\n",
      "\n",
      "0.4581292 6.249999999999995\n",
      "XM1 Vout Vin VDD net1 sky130_fd_pr__pfet_01v8 L=0.15 W=6.2599999999999945 nf=1 ad='int((nf+1)/2) * W/nf * 0.29' as='int((nf+2)/2) * W/nf * 0.29'\n",
      "\n",
      "0.4587405 6.2599999999999945\n",
      "XM1 Vout Vin VDD net1 sky130_fd_pr__pfet_01v8 L=0.15 W=6.269999999999994 nf=1 ad='int((nf+1)/2) * W/nf * 0.29' as='int((nf+2)/2) * W/nf * 0.29'\n",
      "\n",
      "0.4593514 6.269999999999994\n",
      "XM1 Vout Vin VDD net1 sky130_fd_pr__pfet_01v8 L=0.15 W=6.279999999999994 nf=1 ad='int((nf+1)/2) * W/nf * 0.29' as='int((nf+2)/2) * W/nf * 0.29'\n",
      "\n"
     ]
    }
   ],
   "source": [
    "Vin = input(\"!!!To keep the operation simple, the write operation only work well with floating value!!!\\nEnter desired Vin: \")\n",
    "write_vin(file_path, Vin)\n",
    "Vout = ng_run(file_path, 'vout')\n",
    "print(\"Current Vout: \", Vout)\n",
    "step = float(input(\"Enter step size: \"))\n",
    "if Vout > 0.5:\n",
    "    dir = 'Down'\n",
    "elif Vout < 0.5:\n",
    "    dir = 'Up'\n",
    "sel = input(\"Which perameter to sweeped?\\n1. PFET Length\\n2. PFET Width\\n3. NFET Length\\n4. NFET Width\\n\")\n",
    "# ============================================================================\n",
    "if sel == '1':\n",
    "    PL_max = float(input(\"Enter max. Length of PFET(um): \"))\n",
    "    PL_min = float(input(\"Enter min. Length of PFET(um): \"))\n",
    "    run = input(\"Ascending or Descending? (A/D): \")\n",
    "    if run == 'A':\n",
    "        if dir == 'Down':\n",
    "            while Vout >= 0.5:\n",
    "                pfet_Length=read_PL(file_path)\n",
    "                pfet_Length_n = PL_min\n",
    "                write_PL(file_path, str(pfet_Length), str(pfet_Length_n))\n",
    "                Vout = ng_run(file_path, 'vout')\n",
    "                print(Vout, pfet_Length_n)\n",
    "                PL_min = PL_min + step\n",
    "        elif dir == 'Up':\n",
    "            while Vout <= 0.5:\n",
    "                pfet_Length=read_PL(file_path)\n",
    "                pfet_Length_n = PL_min\n",
    "                write_PL(file_path, str(pfet_Length), str(pfet_Length_n))\n",
    "                Vout = ng_run(file_path, 'vout')\n",
    "                print(Vout, pfet_Length_n)\n",
    "                PL_min = PL_min + step\n",
    "    elif run == 'D':\n",
    "        if dir == 'Down':\n",
    "            while Vout >= 0.5:\n",
    "                pfet_Length=read_PL(file_path)\n",
    "                pfet_Length_n = PL_max\n",
    "                write_PL(file_path, str(pfet_Length), str(pfet_Length_n))\n",
    "                Vout = ng_run(file_path, 'vout')\n",
    "                print(Vout, pfet_Length_n)\n",
    "                PL_max = PL_max - step\n",
    "        elif dir == 'Up':\n",
    "            while Vout <= 0.5:\n",
    "                pfet_Length=read_PL(file_path)\n",
    "                pfet_Length_n = PL_max\n",
    "                write_PL(file_path, str(pfet_Length), str(pfet_Length_n))\n",
    "                Vout = ng_run(file_path, 'vout')\n",
    "                print(Vout, pfet_Length_n)\n",
    "                PL_max = PL_max - step\n",
    "# ============================================================================\n",
    "elif sel == '2':\n",
    "    PW_max = float(input(\"Enter max. Width (<25) of PFET(um): \"))\n",
    "    PW_min = float(input(\"Enter min. Width (>0.42) of PFET(um): \"))\n",
    "    run = input(\"Ascending or Descending? (A/D): \")\n",
    "    if run == 'A':\n",
    "        if dir == 'Down':\n",
    "            while Vout >= 0.5:\n",
    "                pfet_Width=read_PW(file_path)\n",
    "                pfet_Width_n = PW_min\n",
    "                write_PW(file_path, str(pfet_Width), str(pfet_Width_n))\n",
    "                Vout = ng_run(file_path, 'vout')\n",
    "                print(Vout, pfet_Width_n)\n",
    "                PW_min = PW_min + step\n",
    "        elif dir == 'Up':\n",
    "            while Vout <= 0.5:\n",
    "                pfet_Width=read_PW(file_path)\n",
    "                pfet_Width_n = PW_min\n",
    "                write_PW(file_path, str(pfet_Width), str(pfet_Width_n))\n",
    "                Vout = ng_run(file_path, 'vout')\n",
    "                print(Vout, pfet_Width_n)\n",
    "                PW_min = PW_min + step\n",
    "    elif run == 'D':\n",
    "        if dir == 'Down':\n",
    "            while Vout >= 0.5:\n",
    "                pfet_Width=read_PW(file_path)\n",
    "                # print(pfet_Width)\n",
    "                pfet_Width_n = PW_max\n",
    "                # print(pfet_Width_n)\n",
    "                write_PW(file_path, str(pfet_Width), str(pfet_Width_n))\n",
    "                Vout = ng_run(file_path, 'vout')\n",
    "                print(Vout, pfet_Width_n)\n",
    "                PW_max = PW_max - step\n",
    "        elif dir == 'Up':\n",
    "            while Vout <= 0.5:\n",
    "                pfet_Width=read_PW(file_path)\n",
    "                # print(pfet_Width)\n",
    "                pfet_Width_n = PW_max\n",
    "                # print(pfet_Width_n)\n",
    "                write_PW(file_path, str(pfet_Width), str(pfet_Width_n))\n",
    "                Vout = ng_run(file_path, 'vout')\n",
    "                print(Vout, pfet_Width_n)\n",
    "                PW_max = PW_max - step\n",
    "# ============================================================================\n",
    "elif sel == '3':\n",
    "    NL_max = float(input(\"Enter max. Length of NFET(um): \"))\n",
    "    NL_min = float(input(\"Enter min. Length of NFET(um): \"))\n",
    "    run = input(\"Ascending or Descending? (A/D): \")\n",
    "    if run == 'A':\n",
    "        if dir == 'Down':\n",
    "            while Vout >= 0.5:\n",
    "                nfet_Length=read_NL(file_path)\n",
    "                nfet_Length_n = NL_min\n",
    "                write_NL(file_path, str(nfet_Length), str(nfet_Length_n))\n",
    "                Vout = ng_run(file_path, 'vout')\n",
    "                print(Vout, nfet_Length_n)\n",
    "                NL_min = NL_min + step\n",
    "        elif dir == 'Up':\n",
    "            while Vout <= 0.5:\n",
    "                nfet_Length=read_NL(file_path)\n",
    "                nfet_Length_n = NL_min\n",
    "                write_NL(file_path, str(nfet_Length), str(nfet_Length_n))\n",
    "                Vout = ng_run(file_path, 'vout')\n",
    "                print(Vout, nfet_Length_n)\n",
    "                NL_min = NL_min + step\n",
    "    elif run == 'D':\n",
    "        if dir == 'Down':\n",
    "            while Vout >= 0.5:\n",
    "                nfet_Length=read_NL(file_path)\n",
    "                nfet_Length_n = NL_max\n",
    "                write_NL(file_path, str(nfet_Length), str(nfet_Length_n))\n",
    "                Vout = ng_run(file_path, 'vout')\n",
    "                print(Vout, nfet_Length_n)\n",
    "                NL_max = NL_max - step\n",
    "        elif dir == 'Up':\n",
    "            while Vout <= 0.5:\n",
    "                nfet_Length=read_NL(file_path)\n",
    "                nfet_Length_n = NL_max\n",
    "                write_NL(file_path, str(nfet_Length), str(nfet_Length_n))\n",
    "                Vout = ng_run(file_path, 'vout')\n",
    "                print(Vout, nfet_Length_n)\n",
    "                NL_max = NL_max - step\n",
    "# ============================================================================\n",
    "elif sel == '4':\n",
    "    NW_max = float(input(\"Enter max. Width of NFET(um): \"))\n",
    "    NW_min = float(input(\"Enter min. Width of NFET(um): \"))\n",
    "    run = input(\"Ascending or Descending? (A/D): \")\n",
    "    if run == 'A':\n",
    "        if dir == 'Down':\n",
    "            while Vout >= 0.5:\n",
    "                nfet_Width=read_NW(file_path)\n",
    "                nfet_Width_n = NW_min\n",
    "                write_NW(file_path, str(nfet_Width), str(nfet_Width_n))\n",
    "                Vout = ng_run(file_path, 'vout')\n",
    "                print(Vout, nfet_Width_n)\n",
    "                NW_min = NW_min + step\n",
    "        elif dir == 'Up':\n",
    "            while Vout <= 0.5:\n",
    "                nfet_Width=read_NW(file_path)\n",
    "                nfet_Width_n = NW_min\n",
    "                write_NW(file_path, str(nfet_Width), str(nfet_Width_n))\n",
    "                Vout = ng_run(file_path, 'vout')\n",
    "                print(Vout, nfet_Width_n)\n",
    "                NW_min = NW_min + step\n",
    "    elif run == 'D':\n",
    "        if dir == 'Down':\n",
    "            while Vout >= 0.5:\n",
    "                nfet_Width=read_NW(file_path)\n",
    "                nfet_Width_n = NW_max\n",
    "                write_NW(file_path, str(nfet_Width), str(nfet_Width_n))\n",
    "                Vout = ng_run(file_path, 'vout')\n",
    "                print(Vout, nfet_Width_n)\n",
    "                NW_max = NW_max - step\n",
    "        elif dir == 'Up':\n",
    "            while Vout <= 0.5:\n",
    "                nfet_Width=read_NW(file_path)\n",
    "                nfet_Width_n = NW_max\n",
    "                write_NW(file_path, str(nfet_Width), str(nfet_Width_n))\n",
    "                Vout = ng_run(file_path, 'vout')\n",
    "                print(Vout, nfet_Width_n)\n",
    "                NW_max = NW_max - step\n",
    "else:\n",
    "    print(\"Invalid selection\")"
   ]
  },
  {
   "cell_type": "code",
   "execution_count": 11,
   "id": "d36d79c4-9d75-466c-858e-176ab3794564",
   "metadata": {},
   "outputs": [
    {
     "name": "stdin",
     "output_type": "stream",
     "text": [
      "Enter list of Vin separated by spases:  1.449466667 1.345933333 1.242400000 1.138866667 1.035333333 0.931800000 0.828266667 0.724733333 0.621200000 0.517666667 0.414133333 0.310600000 0.207066667 0.103533333\n"
     ]
    },
    {
     "name": "stdout",
     "output_type": "stream",
     "text": [
      "\n",
      "Vin list:  ['1.449466667', '1.345933333', '1.242400000', '1.138866667', '1.035333333', '0.931800000', '0.828266667', '0.724733333', '0.621200000', '0.517666667', '0.414133333', '0.310600000', '0.207066667', '0.103533333']\n"
     ]
    }
   ],
   "source": [
    "Vin = input(\"Enter list of Vin separated by spases: \")\n",
    "print(\"\\nVin list: \", Vin.split())"
   ]
  },
  {
   "cell_type": "code",
   "execution_count": 11,
   "id": "11ccccf7-fdde-4421-9d8a-c116bfadf5a9",
   "metadata": {},
   "outputs": [
    {
     "data": {
      "text/plain": [
       "1.8"
      ]
     },
     "execution_count": 11,
     "metadata": {},
     "output_type": "execute_result"
    }
   ],
   "source": [
    "ng_run(file_path, 'vout')"
   ]
  },
  {
   "cell_type": "code",
   "execution_count": null,
   "id": "b3b82226-e275-4a4c-9548-4264257a6b7a",
   "metadata": {},
   "outputs": [],
   "source": []
  },
  {
   "cell_type": "code",
   "execution_count": null,
   "id": "afec7f49-e083-4730-ad31-99541b06eea6",
   "metadata": {},
   "outputs": [],
   "source": []
  }
 ],
 "metadata": {
  "kernelspec": {
   "display_name": "Python 3 (ipykernel)",
   "language": "python",
   "name": "python3"
  },
  "language_info": {
   "codemirror_mode": {
    "name": "ipython",
    "version": 3
   },
   "file_extension": ".py",
   "mimetype": "text/x-python",
   "name": "python",
   "nbconvert_exporter": "python",
   "pygments_lexer": "ipython3",
   "version": "3.10.12"
  }
 },
 "nbformat": 4,
 "nbformat_minor": 5
}
