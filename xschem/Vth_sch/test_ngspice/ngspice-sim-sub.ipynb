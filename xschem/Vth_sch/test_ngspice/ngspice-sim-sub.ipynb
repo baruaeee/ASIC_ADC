{
 "cells": [
  {
   "cell_type": "code",
   "execution_count": 1,
   "id": "8310a912-c055-4e79-9054-4a8b4e3794e2",
   "metadata": {},
   "outputs": [
    {
     "name": "stdout",
     "output_type": "stream",
     "text": [
      "[21]\n",
      "Desired data line: vout = 1.800000e+00\n",
      "Desired data: 1.8\n"
     ]
    }
   ],
   "source": [
    "import subprocess\n",
    "\n",
    "# Run the ngspice command\n",
    "#ngspice_command = ['ngspice', '-i', '-a', 'res-script.spice']\n",
    "ngspice_command = ['ngspice', '-i', '-a', 'test_script.spice']\n",
    "ngspice_process = subprocess.Popen(ngspice_command, stdin=subprocess.PIPE, stdout=subprocess.PIPE, stderr=subprocess.PIPE, universal_newlines=True)\n",
    "\n",
    "# Pass a command to the ngspice console\n",
    "command_to_ngspice = 'print vout\\n'\n",
    "ngspice_process.stdin.write(command_to_ngspice)\n",
    "#command_to_ngspice1 = 'print all\\n'\n",
    "#ngspice_process.stdin.write(command_to_ngspice1)\n",
    "ngspice_process.stdin.flush()\n",
    "\n",
    "# Read the output from ngspice\n",
    "# Read the output from ngspice\n",
    "output, error = ngspice_process.communicate()\n",
    "\n",
    "# Read the output and extract the desired data\n",
    "lines = output.splitlines()\n",
    "line_index = [index for index, line in enumerate(lines) if line.startswith('vout')]\n",
    "print(line_index)\n",
    "desired_line = lines[line_index[0]]  # Assuming the desired line is at index 19\n",
    "print(\"Desired data line:\", desired_line)\n",
    "\n",
    "#Extract the specific data from the desired line\n",
    "data = desired_line.split('=')[1].strip()  # Assuming the data is after the '='\n",
    "\n",
    "print(\"Desired data:\", float(data))"
   ]
  },
  {
   "cell_type": "code",
   "execution_count": null,
   "id": "f5aae075-072d-43cc-bbd7-89fc7270d3ca",
   "metadata": {},
   "outputs": [],
   "source": []
  }
 ],
 "metadata": {
  "kernelspec": {
   "display_name": "Python 3 (ipykernel)",
   "language": "python",
   "name": "python3"
  },
  "language_info": {
   "codemirror_mode": {
    "name": "ipython",
    "version": 3
   },
   "file_extension": ".py",
   "mimetype": "text/x-python",
   "name": "python",
   "nbconvert_exporter": "python",
   "pygments_lexer": "ipython3",
   "version": "3.10.12"
  }
 },
 "nbformat": 4,
 "nbformat_minor": 5
}
