{
 "cells": [
  {
   "cell_type": "code",
   "execution_count": 1,
   "id": "4e17484a-8853-4d13-99a3-00e7d51b3364",
   "metadata": {},
   "outputs": [],
   "source": [
    "def write_vin(file, vin):\n",
    "    with open(file, 'r+') as file:\n",
    "        lines = file.readlines()\n",
    "        file.seek(0)\n",
    "        file.truncate()\n",
    "        for i, line in enumerate(lines):\n",
    "            if 'Vin Vin GND ' in line and not line.startswith('*'):\n",
    "                lines[i]=\"Vin Vin GND \" + vin + \"V\\n\" # every line has a new line (\\n) character\n",
    "            #print(line)\n",
    "        file.writelines(lines)\n",
    "        file.close()\n",
    "write_vin('test_script.spice', '0.3')"
   ]
  },
  {
   "cell_type": "code",
   "execution_count": 2,
   "id": "fb9213f8-9186-497c-823b-dab287ebc6a3",
   "metadata": {},
   "outputs": [],
   "source": [
    "def read_PL(file):\n",
    "    try:\n",
    "        with open(file, 'r') as file:\n",
    "            for line in file:\n",
    "                if 'pfet' in line:\n",
    "                    pfet_Length = float(line.split('L=')[1].split()[0])\n",
    "            file.close()\n",
    "    except FileNotFoundError:\n",
    "        print(f\"File not found: {file_path}\")\n",
    "    except Exception as e:\n",
    "        print(f\"An error occured: {e}\")\n",
    "    return pfet_Length\n",
    "#read_PL('test_script.spice')"
   ]
  },
  {
   "cell_type": "code",
   "execution_count": 3,
   "id": "29d30dbc-eeef-44e2-b8d8-1b1f0ba0d74b",
   "metadata": {},
   "outputs": [],
   "source": [
    "def write_PL(file, fnd, sub):\n",
    "    with open(file, 'r+') as file:\n",
    "        lines = file.readlines()\n",
    "        file.seek(0)\n",
    "        file.truncate()\n",
    "        for  i, line in enumerate(lines):\n",
    "            if 'pfet' in line:\n",
    "                lines[i]=line.replace('L='+fnd,'L='+sub)\n",
    "        file.writelines(lines)\n",
    "        file.close()\n",
    "write_PL('test_script.spice', '0.15', '0.16')"
   ]
  },
  {
   "cell_type": "code",
   "execution_count": 4,
   "id": "6d981903-5166-4ee9-8d9c-a56a22083061",
   "metadata": {},
   "outputs": [],
   "source": [
    "def read_PW(file):\n",
    "    try:\n",
    "        with open(file, 'r') as file:\n",
    "            for line in file:\n",
    "                if 'pfet' in line:\n",
    "                    pfet_Width = float(line.split('W=')[1].split()[0])\n",
    "            file.close()\n",
    "    except FileNotFoundError:\n",
    "        print(f\"File not found: {file_path}\")\n",
    "    except Exception as e:\n",
    "        print(f\"An error occured: {e}\")\n",
    "    return pfet_Width\n"
   ]
  },
  {
   "cell_type": "code",
   "execution_count": 5,
   "id": "4225b0b7-4011-462e-8a92-9427b5a66f5c",
   "metadata": {},
   "outputs": [],
   "source": [
    "def write_PW(file, fnd, sub):\n",
    "    with open(file, 'r+') as file:\n",
    "        lines = file.readlines()\n",
    "        file.seek(0)\n",
    "        file.truncate()\n",
    "        for  i, line in enumerate(lines):\n",
    "            if 'pfet' in line:\n",
    "                lines[i]=line.replace('W='+ fnd,'W='+ sub)\n",
    "                # print(lines[i])\n",
    "        file.writelines(lines)\n",
    "        file.close()"
   ]
  },
  {
   "cell_type": "code",
   "execution_count": 6,
   "id": "7bf23970-85f4-42eb-bb1d-b4e73772694b",
   "metadata": {},
   "outputs": [],
   "source": [
    "def read_NL(file):\n",
    "    try:\n",
    "        with open(file, 'r') as file:\n",
    "            for line in file:\n",
    "                if 'nfet' in line:\n",
    "                    nfet_Length = float(line.split('L=')[1].split()[0])\n",
    "            file.close()\n",
    "    except FileNotFoundError:\n",
    "        print(f\"File not found: {file_path}\")\n",
    "    except Exception as e:\n",
    "        print(f\"An error occured: {e}\")\n",
    "    return nfet_Length"
   ]
  },
  {
   "cell_type": "code",
   "execution_count": 7,
   "id": "4587d681-b5c0-4495-80f1-9744d71c1122",
   "metadata": {},
   "outputs": [],
   "source": [
    "def write_NL(file, fnd, sub):\n",
    "    with open(file, 'r+') as file:\n",
    "        lines = file.readlines()\n",
    "        file.seek(0)\n",
    "        file.truncate()\n",
    "        for  i, line in enumerate(lines):\n",
    "            if 'nfet' in line:\n",
    "                lines[i]=line.replace('L='+fnd,'L='+sub)\n",
    "        file.writelines(lines)\n",
    "        file.close()\n",
    "write_NL('test_script.spice', '25.0', '25.1')"
   ]
  },
  {
   "cell_type": "code",
   "execution_count": 8,
   "id": "a528be08-f0f2-4aeb-aeb7-6033be5797e8",
   "metadata": {},
   "outputs": [],
   "source": [
    "def read_NW(file):\n",
    "    try:\n",
    "        with open(file, 'r') as file:\n",
    "            for line in file:\n",
    "                if 'nfet' in line:\n",
    "                    nfet_Width = float(line.split('W=')[1].split()[0])\n",
    "            file.close()\n",
    "    except FileNotFoundError:\n",
    "        print(f\"File not found: {file_path}\")\n",
    "    except Exception as e:\n",
    "        print(f\"An error occured: {e}\")\n",
    "    return nfet_Width"
   ]
  },
  {
   "cell_type": "code",
   "execution_count": 9,
   "id": "e3e6f580-9c50-43e2-ba24-37a9cbb0fa68",
   "metadata": {},
   "outputs": [],
   "source": [
    "def write_NW(file, fnd, sub):\n",
    "    with open(file, 'r+') as file:\n",
    "        lines = file.readlines()\n",
    "        file.seek(0)\n",
    "        file.truncate()\n",
    "        for  i, line in enumerate(lines):\n",
    "            if 'nfet' in line:\n",
    "                lines[i]=line.replace('W='+ fnd,'W='+ sub)\n",
    "                # print(lines[i])\n",
    "        file.writelines(lines)\n",
    "        file.close()"
   ]
  },
  {
   "cell_type": "code",
   "execution_count": 10,
   "id": "c80c38f6-6128-4233-b7ff-e5db1ec3d569",
   "metadata": {},
   "outputs": [],
   "source": [
    "def ng_run(file, result):\n",
    "    import subprocess\n",
    "    \n",
    "    # Run the ngspice command\n",
    "    #ngspice_command = ['ngspice', '-i', '-a', 'res-script.spice']\n",
    "    ngspice_command = ['ngspice', '-i', '-a', file]\n",
    "    ngspice_process = subprocess.Popen(ngspice_command, stdin=subprocess.PIPE, stdout=subprocess.PIPE, stderr=subprocess.PIPE, universal_newlines=True)\n",
    "    \n",
    "    # Pass a command to the ngspice console\n",
    "    command_to_ngspice = 'print ' + result + '\\n'\n",
    "    ngspice_process.stdin.write(command_to_ngspice)\n",
    "    #command_to_ngspice1 = 'print all\\n'\n",
    "    #ngspice_process.stdin.write(command_to_ngspice1)\n",
    "    ngspice_process.stdin.flush()\n",
    "    \n",
    "    # Read the output from ngspice\n",
    "    output, error = ngspice_process.communicate()\n",
    "    \n",
    "    # Read the output and extract the desired data\n",
    "    lines = output.splitlines()\n",
    "    line_index = [index for index, line in enumerate(lines) if line.startswith(result)]\n",
    "    # print(line_index)\n",
    "    desired_line = lines[line_index[0]]  # Assuming the desired line is at index 19\n",
    "    # print(\"Desired data line:\", desired_line)\n",
    "    \n",
    "    #Extract the specific data from the desired line\n",
    "    data = float(desired_line.split('=')[1].strip())  # Assuming the data is after the '='\n",
    "    \n",
    "    # print(\"Desired data:\", float(data))\n",
    "    return data\n",
    "\n",
    "# ng_run('res-script.spice', 'vout')"
   ]
  }
 ],
 "metadata": {
  "kernelspec": {
   "display_name": "Python 3 (ipykernel)",
   "language": "python",
   "name": "python3"
  },
  "language_info": {
   "codemirror_mode": {
    "name": "ipython",
    "version": 3
   },
   "file_extension": ".py",
   "mimetype": "text/x-python",
   "name": "python",
   "nbconvert_exporter": "python",
   "pygments_lexer": "ipython3",
   "version": "3.10.12"
  }
 },
 "nbformat": 4,
 "nbformat_minor": 5
}
