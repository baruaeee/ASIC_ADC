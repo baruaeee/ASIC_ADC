{
 "cells": [
  {
   "cell_type": "code",
   "execution_count": 14,
   "id": "6a429f81-1c33-45e1-b6fa-5d95cf58107e",
   "metadata": {},
   "outputs": [],
   "source": [
    "import re"
   ]
  },
  {
   "cell_type": "code",
   "execution_count": 15,
   "id": "1a1e45d6-e769-4181-b8ea-c7208e428e87",
   "metadata": {},
   "outputs": [],
   "source": [
    "file_location = 'Analog.sp'"
   ]
  },
  {
   "cell_type": "code",
   "execution_count": 21,
   "id": "1fd6f9ae-b07a-40dc-8946-cc0b8dcc9b1b",
   "metadata": {},
   "outputs": [],
   "source": [
    "def check_lines():\n",
    "    for i, line in enumerate(lines):\n",
    "        if line.startswith('+'):\n",
    "            lines[i] = lines[i+1]\n",
    "with open(file_location, 'r+') as file:\n",
    "    lines = file.readlines()\n",
    "    file.seek(0)\n",
    "    file.truncate()\n",
    "    check_lines()\n",
    "    check_lines()\n",
    "    #pattern = r\"_(.+?)_\"\n",
    "    pattern = r\"nf=1\"\n",
    "    #pattern1 = r\"\\+\"\n",
    "    #pattern2 = r\"_(.+?)_\"\n",
    "    \n",
    "    #print(lines)\n",
    "    for i, line in enumerate(lines):\n",
    "        num = re.search(pattern, line)          \n",
    "        if num:\n",
    "            lines[i]=line.split(' ad=')[0] + '\\n'\n",
    "            #print(lines[i])\n",
    "\n",
    "    file.writelines(lines)\n",
    "    file.close()"
   ]
  },
  {
   "cell_type": "code",
   "execution_count": 32,
   "id": "21975984-f4c9-47c7-9b6a-6a0799f68fbe",
   "metadata": {},
   "outputs": [],
   "source": [
    "with open(file_location, 'r+') as file:\n",
    "    lines = file.readlines()\n",
    "    file.seek(0)\n",
    "    file.truncate()\n",
    "    for  i, line in enumerate(lines):\n",
    "        if 'pfet' in line or 'nfet' in line:\n",
    "            L = line.split('L=')[1].split()[0]\n",
    "            L_n = float(L)*1000e-9\n",
    "            lines[i]=line.replace('L='+ str(L),'L='+ str(L_n))\n",
    "            # print(lines[i])\n",
    "    file.writelines(lines)\n",
    "    file.close()"
   ]
  },
  {
   "cell_type": "code",
   "execution_count": 33,
   "id": "0a3d794d-7750-40a3-8f8d-36943c93692d",
   "metadata": {},
   "outputs": [],
   "source": [
    "with open(file_location, 'r+') as file:\n",
    "    lines = file.readlines()\n",
    "    file.seek(0)\n",
    "    file.truncate()\n",
    "    for  i, line in enumerate(lines):\n",
    "        if 'pfet' in line or 'nfet' in line:\n",
    "            W = line.split('W=')[1].split()[0]\n",
    "            W_n = float(W)*1000e-9\n",
    "            lines[i]=line.replace('W='+ str(W),'W='+ str(W_n))\n",
    "            # print(lines[i])\n",
    "    file.writelines(lines)\n",
    "    file.close()"
   ]
  },
  {
   "cell_type": "code",
   "execution_count": null,
   "id": "8a5fa5b6-0f3d-45d1-a7b4-cee2fa86eb5e",
   "metadata": {},
   "outputs": [],
   "source": []
  }
 ],
 "metadata": {
  "kernelspec": {
   "display_name": "Python 3 (ipykernel)",
   "language": "python",
   "name": "python3"
  },
  "language_info": {
   "codemirror_mode": {
    "name": "ipython",
    "version": 3
   },
   "file_extension": ".py",
   "mimetype": "text/x-python",
   "name": "python",
   "nbconvert_exporter": "python",
   "pygments_lexer": "ipython3",
   "version": "3.10.12"
  }
 },
 "nbformat": 4,
 "nbformat_minor": 5
}
