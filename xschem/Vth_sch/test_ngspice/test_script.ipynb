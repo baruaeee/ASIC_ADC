{
 "cells": [
  {
   "cell_type": "code",
   "execution_count": 13,
   "id": "7bf23970-85f4-42eb-bb1d-b4e73772694b",
   "metadata": {},
   "outputs": [],
   "source": [
    "import os"
   ]
  },
  {
   "cell_type": "code",
   "execution_count": 14,
   "id": "fc29e8e6-4953-4838-b4c7-1d454c31bfb6",
   "metadata": {},
   "outputs": [
    {
     "name": "stdin",
     "output_type": "stream",
     "text": [
      "Netlist file name:  test_script1.spice\n"
     ]
    }
   ],
   "source": [
    "net_file = input(\"Netlist file name: \")"
   ]
  },
  {
   "cell_type": "code",
   "execution_count": 15,
   "id": "844ceed6-39d3-4479-80e5-1c0b184dbb97",
   "metadata": {},
   "outputs": [
    {
     "name": "stdout",
     "output_type": "stream",
     "text": [
      "test_script1.spice\n"
     ]
    }
   ],
   "source": [
    "print(net_file)"
   ]
  },
  {
   "cell_type": "code",
   "execution_count": 5,
   "id": "01676d58-1efa-4179-9dc1-3e554695b513",
   "metadata": {
    "scrolled": true
   },
   "outputs": [
    {
     "name": "stdout",
     "output_type": "stream",
     "text": [
      "\n",
      "No compatibility mode selected!\n",
      "\n",
      "\n",
      "Circuit: ** sch_path: /home/exotic/desktop/asic_adc/xschem/vth_sch/test_ngspice/test_script1.sch\n",
      "\n",
      "binary raw file \"test.raw\"\n",
      "Doing analysis at TEMP = 27.000000 and TNOM = 27.000000\n",
      "\n",
      "No. of Data Columns : 13  \n",
      "\n",
      "No. of Data Rows : 1\n",
      ".print line ignored since rawfile was produced.\n",
      "\n",
      "Total analysis time (seconds) = 0.003\n",
      "\n",
      "Total elapsed time (seconds) = 43.086 \n",
      "\n",
      "Total DRAM available = 1929.590 MB.\n",
      "DRAM currently available =   65.766 MB.\n",
      "Maximum ngspice program size =  682.078 MB.\n",
      "Current ngspice program size =  665.594 MB.\n",
      "\n",
      "Shared ngspice pages =    9.727 MB.\n",
      "Text (code) pages =    5.316 MB.\n",
      "Stack = 0 bytes.\n",
      "Library pages =  664.133 MB.\n",
      "\n"
     ]
    },
    {
     "data": {
      "text/plain": [
       "0"
      ]
     },
     "execution_count": 5,
     "metadata": {},
     "output_type": "execute_result"
    }
   ],
   "source": [
    "os.system(\"ngspice -b -r test.raw test_script1.spice\")"
   ]
  },
  {
   "cell_type": "code",
   "execution_count": 27,
   "id": "bdb366ce-a7b9-4e30-be0d-c8ceedf5482c",
   "metadata": {
    "scrolled": true
   },
   "outputs": [
    {
     "name": "stderr",
     "output_type": "stream",
     "text": [
      "cat: invalid option -- 'a'\n",
      "Try 'cat --help' for more information.\n",
      "Error: no circuit loaded!\n"
     ]
    },
    {
     "data": {
      "text/plain": [
       "0"
      ]
     },
     "execution_count": 27,
     "metadata": {},
     "output_type": "execute_result"
    }
   ],
   "source": [
    "os.system(\"cat \" + net_file + \"|ngspice -s|less\")"
   ]
  },
  {
   "cell_type": "code",
   "execution_count": 30,
   "id": "9923b673-588f-4bdb-8002-7b1d3e1afe98",
   "metadata": {},
   "outputs": [
    {
     "data": {
      "text/plain": [
       "0"
      ]
     },
     "execution_count": 30,
     "metadata": {},
     "output_type": "execute_result"
    },
    {
     "name": "stdout",
     "output_type": "stream",
     "text": [
      "******\n",
      "** ngspice-36 : Circuit level simulation program\n",
      "** The U. C. Berkeley CAD Group\n",
      "** Copyright 1985-1994, Regents of the University of California.\n",
      "** Copyright 2001-2020, The ngspice team.\n",
      "** Please get your ngspice manual from http://ngspice.sourceforge.net/docs.html\n",
      "** Please file your bug-reports at http://ngspice.sourceforge.net/bugrep.html\n",
      "** Creation Date: Sat Jan  1 18:54:42 UTC 2022\n",
      "******\n",
      "\n",
      "No compatibility mode selected!\n",
      "\n",
      "\n",
      "Circuit: ** sch_path: /home/exotic/desktop/asic_adc/xschem/vth_sch/test_ngspice/test_script1.sch\n",
      "\n",
      "Doing analysis at TEMP = 27.000000 and TNOM = 27.000000\n",
      "\n",
      "\n",
      "No. of Data Rows : 1\n",
      "ngspice-36 done\n"
     ]
    }
   ],
   "source": [
    "os.system(\"ngspice test_script1.spice -i -a\")"
   ]
  },
  {
   "cell_type": "code",
   "execution_count": null,
   "id": "25c21def-c0ce-427c-b5bc-91d39afa8eb7",
   "metadata": {},
   "outputs": [],
   "source": []
  }
 ],
 "metadata": {
  "kernelspec": {
   "display_name": "Python 3 (ipykernel)",
   "language": "python",
   "name": "python3"
  },
  "language_info": {
   "codemirror_mode": {
    "name": "ipython",
    "version": 3
   },
   "file_extension": ".py",
   "mimetype": "text/x-python",
   "name": "python",
   "nbconvert_exporter": "python",
   "pygments_lexer": "ipython3",
   "version": "3.10.12"
  }
 },
 "nbformat": 4,
 "nbformat_minor": 5
}
