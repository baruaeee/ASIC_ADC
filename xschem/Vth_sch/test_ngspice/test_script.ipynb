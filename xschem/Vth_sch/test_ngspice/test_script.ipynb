{
 "cells": [
  {
   "cell_type": "code",
   "execution_count": 2,
   "id": "7bf23970-85f4-42eb-bb1d-b4e73772694b",
   "metadata": {},
   "outputs": [],
   "source": [
    "import os"
   ]
  },
  {
   "cell_type": "code",
   "execution_count": 22,
   "id": "fc29e8e6-4953-4838-b4c7-1d454c31bfb6",
   "metadata": {},
   "outputs": [
    {
     "name": "stdin",
     "output_type": "stream",
     "text": [
      "Netlist file name:  test_script1.spice\n"
     ]
    }
   ],
   "source": [
    "net_file = input(\"Netlist file name: \")"
   ]
  },
  {
   "cell_type": "code",
   "execution_count": 23,
   "id": "844ceed6-39d3-4479-80e5-1c0b184dbb97",
   "metadata": {},
   "outputs": [
    {
     "name": "stdout",
     "output_type": "stream",
     "text": [
      "test_script1.spice\n"
     ]
    }
   ],
   "source": [
    "print(net_file)"
   ]
  },
  {
   "cell_type": "code",
   "execution_count": 5,
   "id": "01676d58-1efa-4179-9dc1-3e554695b513",
   "metadata": {
    "scrolled": true
   },
   "outputs": [
    {
     "name": "stdout",
     "output_type": "stream",
     "text": [
      "\n",
      "No compatibility mode selected!\n",
      "\n",
      "\n",
      "Circuit: ** sch_path: /home/exotic/desktop/asic_adc/xschem/vth_sch/test_ngspice/test_script1.sch\n",
      "\n",
      "binary raw file \"test.raw\"\n",
      "Doing analysis at TEMP = 27.000000 and TNOM = 27.000000\n",
      "\n",
      "No. of Data Columns : 13  \n",
      "\n",
      "No. of Data Rows : 1\n",
      ".print line ignored since rawfile was produced.\n",
      "\n",
      "Total analysis time (seconds) = 0.003\n",
      "\n",
      "Total elapsed time (seconds) = 43.086 \n",
      "\n",
      "Total DRAM available = 1929.590 MB.\n",
      "DRAM currently available =   65.766 MB.\n",
      "Maximum ngspice program size =  682.078 MB.\n",
      "Current ngspice program size =  665.594 MB.\n",
      "\n",
      "Shared ngspice pages =    9.727 MB.\n",
      "Text (code) pages =    5.316 MB.\n",
      "Stack = 0 bytes.\n",
      "Library pages =  664.133 MB.\n",
      "\n"
     ]
    },
    {
     "data": {
      "text/plain": [
       "0"
      ]
     },
     "execution_count": 5,
     "metadata": {},
     "output_type": "execute_result"
    }
   ],
   "source": [
    "os.system(\"ngspice -b -r test.raw test_script1.spice\")"
   ]
  },
  {
   "cell_type": "code",
   "execution_count": 24,
   "id": "bdb366ce-a7b9-4e30-be0d-c8ceedf5482c",
   "metadata": {
    "scrolled": true
   },
   "outputs": [
    {
     "name": "stdout",
     "output_type": "stream",
     "text": [
      "\n",
      "No compatibility mode selected!\n",
      "\n",
      "\n",
      "Circuit: ** sch_path: /home/exotic/desktop/asic_adc/xschem/vth_sch/test_ngspice/test_script1.sch\n",
      "\n",
      "Doing analysis at TEMP = 27.000000 and TNOM = 27.000000\n",
      "\n",
      "Title: ** sch_path: /home/exotic/desktop/asic_adc/xschem/vth_sch/test_ngspice/test_script1.sch\n",
      "Date: Sat Oct 21 19:16:00  2023\n",
      "Plotname: Operating Point\n",
      "Flags: real\n",
      "No. Variables: 13\n",
      "No. Points: 0       \n",
      "Variables:\n",
      "No. of Data Columns : 13  \n",
      "\t0\tv(vdd)\tvoltage\n",
      "\t1\tv(vin)\tvoltage\n",
      "\t2\tv(vout)\tvoltage\n",
      "\t3\tv(net1)\tvoltage\n",
      "\t4\tv(net2)\tvoltage\n",
      "\t5\tv(m.xm2.msky130_fd_pr__nfet_01v8#dbody)\tvoltage\n",
      "\t6\tv(m.xm2.msky130_fd_pr__nfet_01v8#body)\tvoltage\n",
      "\t7\tv(m.xm2.msky130_fd_pr__nfet_01v8#sbody)\tvoltage\n",
      "\t8\tv(m.xm1.msky130_fd_pr__pfet_01v8#dbody)\tvoltage\n",
      "\t9\tv(m.xm1.msky130_fd_pr__pfet_01v8#body)\tvoltage\n",
      "\t10\tv(m.xm1.msky130_fd_pr__pfet_01v8#sbody)\tvoltage\n",
      "\t11\ti(vin)\tcurrent\n",
      "\t12\ti(vdd)\tcurrent\n",
      "Binary:\n",
      "�������?433333�?\u0007C�����?t5�\u0013���?��m<���?�~x<���?��m<���?9�b<���?v5�\u0013���?u5�\u0013���?v5�\u0013���?\u0000\u0000\u0000\u0000\u0000\u0000\u0000\u0000\u0000\u0000\u0000\u0000\u0000*ڽ"
     ]
    },
    {
     "name": "stderr",
     "output_type": "stream",
     "text": [
      "@@@ 195 1\n"
     ]
    },
    {
     "data": {
      "text/plain": [
       "0"
      ]
     },
     "execution_count": 24,
     "metadata": {},
     "output_type": "execute_result"
    }
   ],
   "source": [
    "os.system(\"cat \" + net_file + \"|ngspice -s|less\")"
   ]
  },
  {
   "cell_type": "code",
   "execution_count": 28,
   "id": "9923b673-588f-4bdb-8002-7b1d3e1afe98",
   "metadata": {},
   "outputs": [
    {
     "name": "stderr",
     "output_type": "stream",
     "text": [
      " Reference value :  0.00000e+00\r"
     ]
    },
    {
     "data": {
      "text/plain": [
       "32512"
      ]
     },
     "execution_count": 28,
     "metadata": {},
     "output_type": "execute_result"
    }
   ],
   "source": [
    "os.system(\"ngspice \" + net_file + \"|exec 2>print v(Vout)\")"
   ]
  },
  {
   "cell_type": "code",
   "execution_count": null,
   "id": "d96630e0-61d4-4c51-8f54-86026f3b4ef2",
   "metadata": {},
   "outputs": [],
   "source": []
  }
 ],
 "metadata": {
  "kernelspec": {
   "display_name": "Python 3 (ipykernel)",
   "language": "python",
   "name": "python3"
  },
  "language_info": {
   "codemirror_mode": {
    "name": "ipython",
    "version": 3
   },
   "file_extension": ".py",
   "mimetype": "text/x-python",
   "name": "python",
   "nbconvert_exporter": "python",
   "pygments_lexer": "ipython3",
   "version": "3.10.12"
  }
 },
 "nbformat": 4,
 "nbformat_minor": 5
}
