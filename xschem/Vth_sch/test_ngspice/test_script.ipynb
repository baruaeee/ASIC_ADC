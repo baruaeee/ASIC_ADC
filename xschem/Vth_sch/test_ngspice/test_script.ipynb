{
 "cells": [
  {
   "cell_type": "code",
   "execution_count": 1,
   "id": "9a64f455-677e-4ab1-98d5-489b3138b9af",
   "metadata": {},
   "outputs": [
    {
     "ename": "ModuleNotFoundError",
     "evalue": "No module named 'ngspyce'",
     "output_type": "error",
     "traceback": [
      "\u001b[0;31m---------------------------------------------------------------------------\u001b[0m",
      "\u001b[0;31mModuleNotFoundError\u001b[0m                       Traceback (most recent call last)",
      "Cell \u001b[0;32mIn[1], line 5\u001b[0m\n\u001b[1;32m      1\u001b[0m \u001b[38;5;124;03m\"\"\"\u001b[39;00m\n\u001b[1;32m      2\u001b[0m \u001b[38;5;124;03mPlot the frequency response of an RC low-pass filter\u001b[39;00m\n\u001b[1;32m      3\u001b[0m \u001b[38;5;124;03m\"\"\"\u001b[39;00m\n\u001b[0;32m----> 5\u001b[0m \u001b[38;5;28;01mimport\u001b[39;00m \u001b[38;5;21;01mngspyce\u001b[39;00m\n\u001b[1;32m      6\u001b[0m \u001b[38;5;28;01mfrom\u001b[39;00m \u001b[38;5;21;01mmatplotlib\u001b[39;00m \u001b[38;5;28;01mimport\u001b[39;00m pyplot \u001b[38;5;28;01mas\u001b[39;00m plt\n\u001b[1;32m      7\u001b[0m \u001b[38;5;28;01mimport\u001b[39;00m \u001b[38;5;21;01mnumpy\u001b[39;00m \u001b[38;5;28;01mas\u001b[39;00m \u001b[38;5;21;01mnp\u001b[39;00m\n",
      "\u001b[0;31mModuleNotFoundError\u001b[0m: No module named 'ngspyce'"
     ]
    }
   ],
   "source": [
    "\"\"\"\n",
    "Plot the frequency response of an RC low-pass filter\n",
    "\"\"\"\n",
    "\n",
    "import ngspyce\n",
    "from matplotlib import pyplot as plt\n",
    "import numpy as np\n",
    "\n",
    "# Read netlist\n",
    "ngspyce.source('lowpass.net')\n",
    "\n",
    "# Calculate small-signal transfer function between 1 kHz and 10 MHz, with 5\n",
    "# points per decade\n",
    "ngspyce.ac(mode='dec', npoints=7, fstart=1e3, fstop=10e6)\n",
    "\n",
    "# Read results\n",
    "freq = np.abs(ngspyce.vector('frequency'))\n",
    "vout = ngspyce.vector('vout')\n",
    "\n",
    "# And plot them\n",
    "fig, (ax1, ax2) = plt.subplots(2, sharex=True)\n",
    "fig.suptitle('Frequency response of an RC low-pass filter')\n",
    "\n",
    "ax1.semilogx(freq, 20*np.log10(np.abs(vout)))\n",
    "ax1.set_ylabel('Magnitude [dB]')\n",
    "ax1.grid(True, which='both')\n",
    "\n",
    "ax2.semilogx(freq, np.angle(vout, True))\n",
    "ax2.set_xlabel('Frequency [Hz]')\n",
    "ax2.set_ylabel('Phase [degrees]')\n",
    "ax2.grid(True, which='both')\n",
    "ax2.margins(x=0)\n",
    "\n",
    "plt.savefig('lowpass.png')\n",
    "plt.show()"
   ]
  },
  {
   "cell_type": "code",
   "execution_count": null,
   "id": "01676d58-1efa-4179-9dc1-3e554695b513",
   "metadata": {},
   "outputs": [],
   "source": []
  }
 ],
 "metadata": {
  "kernelspec": {
   "display_name": "Python 3 (ipykernel)",
   "language": "python",
   "name": "python3"
  },
  "language_info": {
   "codemirror_mode": {
    "name": "ipython",
    "version": 3
   },
   "file_extension": ".py",
   "mimetype": "text/x-python",
   "name": "python",
   "nbconvert_exporter": "python",
   "pygments_lexer": "ipython3",
   "version": "3.10.12"
  }
 },
 "nbformat": 4,
 "nbformat_minor": 5
}
