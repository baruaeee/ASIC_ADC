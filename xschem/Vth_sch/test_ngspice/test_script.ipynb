{
 "cells": [
  {
   "cell_type": "code",
   "execution_count": 6,
   "id": "01676d58-1efa-4179-9dc1-3e554695b513",
   "metadata": {},
   "outputs": [],
   "source": [
    "from PySpice.Spice.Library import SpiceLibrary"
   ]
  },
  {
   "cell_type": "code",
   "execution_count": 7,
   "id": "6c2e8284-1a34-41fc-9ade-7ab6ece657ef",
   "metadata": {},
   "outputs": [],
   "source": [
    "from PySpice.Spice.Netlist import Circuit"
   ]
  },
  {
   "cell_type": "code",
   "execution_count": 8,
   "id": "93cbab86-d737-4326-a531-74e7b26436a8",
   "metadata": {},
   "outputs": [],
   "source": [
    "# Load the netlist\n",
    "circuit = Circuit('test_script.spice')"
   ]
  },
  {
   "cell_type": "code",
   "execution_count": 9,
   "id": "f104563e-3860-4621-9359-d83526498c3f",
   "metadata": {},
   "outputs": [],
   "source": [
    "# Simulate the circuit\n",
    "simulator = circuit.simulator()\n",
    "analysis = simulator.transient(start_time=0, end_time=1, step_time=0.1)"
   ]
  },
  {
   "cell_type": "code",
   "execution_count": 11,
   "id": "457fe049-c597-49db-a063-d5c074b9c3f8",
   "metadata": {},
   "outputs": [
    {
     "ename": "IndexError",
     "evalue": "vin",
     "output_type": "error",
     "traceback": [
      "\u001b[0;31m---------------------------------------------------------------------------\u001b[0m",
      "\u001b[0;31mIndexError\u001b[0m                                Traceback (most recent call last)",
      "File \u001b[0;32m~/.local/lib/python3.10/site-packages/PySpice/Probe/WaveForm.py:301\u001b[0m, in \u001b[0;36mAnalysis.__getitem__\u001b[0;34m(self, name)\u001b[0m\n\u001b[1;32m    300\u001b[0m \u001b[38;5;28;01mtry\u001b[39;00m:\n\u001b[0;32m--> 301\u001b[0m     \u001b[38;5;28;01mreturn\u001b[39;00m \u001b[38;5;28;43mself\u001b[39;49m\u001b[38;5;241;43m.\u001b[39;49m\u001b[43m_get_item\u001b[49m\u001b[43m(\u001b[49m\u001b[43mname\u001b[49m\u001b[43m)\u001b[49m\n\u001b[1;32m    302\u001b[0m \u001b[38;5;28;01mexcept\u001b[39;00m \u001b[38;5;167;01mIndexError\u001b[39;00m:\n",
      "File \u001b[0;32m~/.local/lib/python3.10/site-packages/PySpice/Probe/WaveForm.py:295\u001b[0m, in \u001b[0;36mAnalysis._get_item\u001b[0;34m(self, name)\u001b[0m\n\u001b[1;32m    294\u001b[0m \u001b[38;5;28;01melse\u001b[39;00m:\n\u001b[0;32m--> 295\u001b[0m     \u001b[38;5;28;01mraise\u001b[39;00m \u001b[38;5;167;01mIndexError\u001b[39;00m(name)\n",
      "\u001b[0;31mIndexError\u001b[0m: Vin",
      "\nDuring handling of the above exception, another exception occurred:\n",
      "\u001b[0;31mIndexError\u001b[0m                                Traceback (most recent call last)",
      "Cell \u001b[0;32mIn[11], line 3\u001b[0m\n\u001b[1;32m      1\u001b[0m \u001b[38;5;66;03m# Extract simulation results\u001b[39;00m\n\u001b[1;32m      2\u001b[0m time \u001b[38;5;241m=\u001b[39m analysis\u001b[38;5;241m.\u001b[39mtime\n\u001b[0;32m----> 3\u001b[0m voltage \u001b[38;5;241m=\u001b[39m \u001b[43manalysis\u001b[49m\u001b[43m[\u001b[49m\u001b[38;5;124;43m'\u001b[39;49m\u001b[38;5;124;43mVin\u001b[39;49m\u001b[38;5;124;43m'\u001b[39;49m\u001b[43m]\u001b[49m\n",
      "File \u001b[0;32m~/.local/lib/python3.10/site-packages/PySpice/Probe/WaveForm.py:303\u001b[0m, in \u001b[0;36mAnalysis.__getitem__\u001b[0;34m(self, name)\u001b[0m\n\u001b[1;32m    301\u001b[0m     \u001b[38;5;28;01mreturn\u001b[39;00m \u001b[38;5;28mself\u001b[39m\u001b[38;5;241m.\u001b[39m_get_item(name)\n\u001b[1;32m    302\u001b[0m \u001b[38;5;28;01mexcept\u001b[39;00m \u001b[38;5;167;01mIndexError\u001b[39;00m:\n\u001b[0;32m--> 303\u001b[0m     \u001b[38;5;28;01mreturn\u001b[39;00m \u001b[38;5;28;43mself\u001b[39;49m\u001b[38;5;241;43m.\u001b[39;49m\u001b[43m_get_item\u001b[49m\u001b[43m(\u001b[49m\u001b[43mname\u001b[49m\u001b[38;5;241;43m.\u001b[39;49m\u001b[43mlower\u001b[49m\u001b[43m(\u001b[49m\u001b[43m)\u001b[49m\u001b[43m)\u001b[49m\n",
      "File \u001b[0;32m~/.local/lib/python3.10/site-packages/PySpice/Probe/WaveForm.py:295\u001b[0m, in \u001b[0;36mAnalysis._get_item\u001b[0;34m(self, name)\u001b[0m\n\u001b[1;32m    293\u001b[0m     \u001b[38;5;28;01mreturn\u001b[39;00m \u001b[38;5;28mself\u001b[39m\u001b[38;5;241m.\u001b[39m_internal_parameters[name]\n\u001b[1;32m    294\u001b[0m \u001b[38;5;28;01melse\u001b[39;00m:\n\u001b[0;32m--> 295\u001b[0m     \u001b[38;5;28;01mraise\u001b[39;00m \u001b[38;5;167;01mIndexError\u001b[39;00m(name)\n",
      "\u001b[0;31mIndexError\u001b[0m: vin"
     ]
    }
   ],
   "source": [
    "# Extract simulation results\n",
    "time = analysis.time\n",
    "voltage = analysis['Vin']"
   ]
  },
  {
   "cell_type": "code",
   "execution_count": null,
   "id": "de936fe1-57f8-4105-91d0-f1d35d398d2b",
   "metadata": {},
   "outputs": [],
   "source": []
  }
 ],
 "metadata": {
  "kernelspec": {
   "display_name": "Python 3 (ipykernel)",
   "language": "python",
   "name": "python3"
  },
  "language_info": {
   "codemirror_mode": {
    "name": "ipython",
    "version": 3
   },
   "file_extension": ".py",
   "mimetype": "text/x-python",
   "name": "python",
   "nbconvert_exporter": "python",
   "pygments_lexer": "ipython3",
   "version": "3.10.12"
  }
 },
 "nbformat": 4,
 "nbformat_minor": 5
}
