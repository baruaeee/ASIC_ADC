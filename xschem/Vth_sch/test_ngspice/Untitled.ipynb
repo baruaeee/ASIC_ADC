{
 "cells": [
  {
   "cell_type": "code",
   "execution_count": 1,
   "id": "6da6885a-4fd6-4cfa-99c4-196521be8215",
   "metadata": {},
   "outputs": [
    {
     "name": "stdout",
     "output_type": "stream",
     "text": [
      "[array([(1.8, 0.3, 1.79999999, 1.79998882, 0.25846606, 0.25846606, 0.25846606, 0.25846606, 1.79998882, 1.79998882, 1.79998882, 0., -9.51843049e-11)],\n",
      "      dtype=[('v(vdd)', '<f8'), ('v(vin)', '<f8'), ('v(vout)', '<f8'), ('v(net1)', '<f8'), ('v(net2)', '<f8'), ('v(m.xm2.msky130_fd_pr__nfet_01v8#dbody)', '<f8'), ('v(m.xm2.msky130_fd_pr__nfet_01v8#body)', '<f8'), ('v(m.xm2.msky130_fd_pr__nfet_01v8#sbody)', '<f8'), ('v(m.xm1.msky130_fd_pr__pfet_01v8#dbody)', '<f8'), ('v(m.xm1.msky130_fd_pr__pfet_01v8#body)', '<f8'), ('v(m.xm1.msky130_fd_pr__pfet_01v8#sbody)', '<f8'), ('i(vin)', '<f8'), ('i(vdd)', '<f8')])]\n"
     ]
    }
   ],
   "source": [
    "# MIT license: https://opensource.org/licenses/MIT\n",
    "# See https://github.com/Isotel/mixedsim/blob/master/python/ngspice_read.py\n",
    "# for a more complete library. Isotel's version is GPL licensed\n",
    "from __future__ import division\n",
    "import numpy as np\n",
    "BSIZE_SP = 512 # Max size of a line of data; we don't want to read the\n",
    "               # whole file to find a line, in case file does not have\n",
    "               # expected structure.\n",
    "MDATA_LIST = [b'title', b'date', b'plotname', b'flags', b'no. variables',\n",
    "              b'no. points', b'dimensions', b'command', b'option']\n",
    "\n",
    "def rawread(fname: str):\n",
    "    \"\"\"Read ngspice binary raw files. Return tuple of the data, and the\n",
    "    plot metadata. The dtype of the data contains field names. This is\n",
    "    not very robust yet, and only supports ngspice.\n",
    "    >>> darr, mdata = rawread('test.py')\n",
    "    >>> darr.dtype.names\n",
    "    >>> plot(np.real(darr['frequency']), np.abs(darr['v(out)']))\n",
    "    \"\"\"\n",
    "    # Example header of raw file\n",
    "    # Title: rc band pass example circuit\n",
    "    # Date: Sun Feb 21 11:29:14  2016\n",
    "    # Plotname: AC Analysis\n",
    "    # Flags: complex\n",
    "    # No. Variables: 3\n",
    "    # No. Points: 41\n",
    "    # Variables:\n",
    "    #         0       frequency       frequency       grid=3\n",
    "    #         1       v(out)  voltage\n",
    "    #         2       v(in)   voltage\n",
    "    # Binary:\n",
    "    fp = open(fname, 'rb')\n",
    "    plot = {}\n",
    "    count = 0\n",
    "    arrs = []\n",
    "    plots = []\n",
    "    while (True):\n",
    "        try:\n",
    "            mdata = fp.readline(BSIZE_SP).split(b':', maxsplit=1)\n",
    "        except:\n",
    "            raise\n",
    "        if len(mdata) == 2:\n",
    "            if mdata[0].lower() in MDATA_LIST:\n",
    "                plot[mdata[0].lower()] = mdata[1].strip()\n",
    "            if mdata[0].lower() == b'variables':\n",
    "                nvars = int(plot[b'no. variables'])\n",
    "                npoints = int(plot[b'no. points'])\n",
    "                plot['varnames'] = []\n",
    "                plot['varunits'] = []\n",
    "                for varn in range(nvars):\n",
    "                    varspec = (fp.readline(BSIZE_SP).strip()\n",
    "                               .decode('ascii').split())\n",
    "                    assert(varn == int(varspec[0]))\n",
    "                    plot['varnames'].append(varspec[1])\n",
    "                    plot['varunits'].append(varspec[2])\n",
    "            if mdata[0].lower() == b'binary':\n",
    "                rowdtype = np.dtype({'names': plot['varnames'],\n",
    "                                     'formats': [np.complex_ if b'complex'\n",
    "                                                 in plot[b'flags']\n",
    "                                                 else np.float_]*nvars})\n",
    "                # We should have all the metadata by now\n",
    "                arrs.append(np.fromfile(fp, dtype=rowdtype, count=npoints))\n",
    "                plots.append(plot)\n",
    "                fp.readline() # Read to the end of line\n",
    "        else:\n",
    "            break\n",
    "    return (arrs, plots)\n",
    "\n",
    "if __name__ == '__main__':\n",
    "    arrs, plots = rawread('test.raw')\n",
    "    print(arrs)\n",
    "\n",
    "# Local Variables:\n",
    "# mode: python\n",
    "# End:"
   ]
  },
  {
   "cell_type": "code",
   "execution_count": null,
   "id": "046f78bc-d94f-4320-ae11-dfca82569067",
   "metadata": {},
   "outputs": [],
   "source": []
  }
 ],
 "metadata": {
  "kernelspec": {
   "display_name": "Python 3 (ipykernel)",
   "language": "python",
   "name": "python3"
  },
  "language_info": {
   "codemirror_mode": {
    "name": "ipython",
    "version": 3
   },
   "file_extension": ".py",
   "mimetype": "text/x-python",
   "name": "python",
   "nbconvert_exporter": "python",
   "pygments_lexer": "ipython3",
   "version": "3.10.12"
  }
 },
 "nbformat": 4,
 "nbformat_minor": 5
}
