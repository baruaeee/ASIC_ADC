{
 "cells": [
  {
   "cell_type": "code",
   "execution_count": 2,
   "id": "7bf23970-85f4-42eb-bb1d-b4e73772694b",
   "metadata": {},
   "outputs": [],
   "source": [
    "import subprocess"
   ]
  },
  {
   "cell_type": "code",
   "execution_count": 6,
   "id": "01676d58-1efa-4179-9dc1-3e554695b513",
   "metadata": {},
   "outputs": [
    {
     "name": "stdout",
     "output_type": "stream",
     "text": [
      "<bound method Popen.poll of <Popen: returncode: None args: ['ngspice', '-i', '-a', 'test_script.spice']>>\n"
     ]
    }
   ],
   "source": [
    "# Run the ngspice command\n",
    "#ngspice_command = ['ngspice', '-i', '-a', 'res-script.spice']\n",
    "ngspice_command = ['ngspice', '-i', '-a', 'test_script.spice']\n",
    "ngspice_process = subprocess.Popen(ngspice_command, stdin=subprocess.PIPE, stdout=subprocess.PIPE, stderr=subprocess.PIPE, universal_newlines=True)\n",
    "print(ngspice_process.poll)"
   ]
  },
  {
   "cell_type": "code",
   "execution_count": 9,
   "id": "be7ba37d-a0d4-4f93-b64c-832dd2e4ce51",
   "metadata": {},
   "outputs": [],
   "source": [
    "# Pass a command to the ngspice console\n",
    "command_to_ngspice = 'print vout\\n'\n",
    "ngspice_process.stdin.write(command_to_ngspice)\n",
    "#command_to_ngspice1 = 'print all\\n'\n",
    "#ngspice_process.stdin.write(command_to_ngspice1)\n",
    "ngspice_process.stdin.flush()"
   ]
  },
  {
   "cell_type": "code",
   "execution_count": 10,
   "id": "b837df5f-20c8-4a79-b2c8-0d71f2979204",
   "metadata": {},
   "outputs": [
    {
     "name": "stdout",
     "output_type": "stream",
     "text": [
      "[21]\n",
      "Desired data line: vout = 1.800000e+00\n",
      "Desired data: 1.8\n"
     ]
    }
   ],
   "source": [
    "# Read the output from ngspice\n",
    "output, error = ngspice_process.communicate()\n",
    "\n",
    "# Read the output and extract the desired data\n",
    "lines = output.splitlines()\n",
    "line_index = [index for index, line in enumerate(lines) if line.startswith('vout')]\n",
    "print(line_index)\n",
    "desired_line = lines[line_index[0]]\n",
    "print(\"Desired data line:\", desired_line)\n",
    "\n",
    "#Extract the specific data from the desired line\n",
    "data = desired_line.split('=')[1].strip()  # Assuming the data is after the '='\n",
    "\n",
    "print(\"Desired data:\", float(data))"
   ]
  },
  {
   "cell_type": "code",
   "execution_count": 19,
   "id": "7442bf38-3302-4b62-b431-2f064aba9087",
   "metadata": {},
   "outputs": [],
   "source": [
    "from NG_RUN import ng_run"
   ]
  },
  {
   "cell_type": "code",
   "execution_count": 20,
   "id": "244024e7-b846-4642-97a7-c0fdebd223b9",
   "metadata": {},
   "outputs": [
    {
     "data": {
      "text/plain": [
       "1.5"
      ]
     },
     "execution_count": 20,
     "metadata": {},
     "output_type": "execute_result"
    }
   ],
   "source": [
    "ng_run('res-script.spice', 'vout')"
   ]
  },
  {
   "cell_type": "code",
   "execution_count": null,
   "id": "1fa11229-525a-4bc7-bc23-043483b933a8",
   "metadata": {},
   "outputs": [],
   "source": []
  }
 ],
 "metadata": {
  "kernelspec": {
   "display_name": "Python 3 (ipykernel)",
   "language": "python",
   "name": "python3"
  },
  "language_info": {
   "codemirror_mode": {
    "name": "ipython",
    "version": 3
   },
   "file_extension": ".py",
   "mimetype": "text/x-python",
   "name": "python",
   "nbconvert_exporter": "python",
   "pygments_lexer": "ipython3",
   "version": "3.10.12"
  }
 },
 "nbformat": 4,
 "nbformat_minor": 5
}
