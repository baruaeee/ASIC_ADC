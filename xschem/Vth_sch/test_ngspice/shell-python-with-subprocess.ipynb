{
 "cells": [
  {
   "cell_type": "code",
   "execution_count": 80,
   "id": "7bf23970-85f4-42eb-bb1d-b4e73772694b",
   "metadata": {},
   "outputs": [],
   "source": [
    "import subprocess"
   ]
  },
  {
   "cell_type": "code",
   "execution_count": 85,
   "id": "01676d58-1efa-4179-9dc1-3e554695b513",
   "metadata": {},
   "outputs": [],
   "source": [
    "# Run the ngspice command\n",
    "ngspice_command = ['ngspice', '-i', '-a', 'test_script1.spice']\n",
    "ngspice_process = subprocess.Popen(ngspice_command, stdin=subprocess.PIPE, stdout=subprocess.PIPE, stderr=subprocess.PIPE, universal_newlines=True)"
   ]
  },
  {
   "cell_type": "code",
   "execution_count": 86,
   "id": "be7ba37d-a0d4-4f93-b64c-832dd2e4ce51",
   "metadata": {},
   "outputs": [],
   "source": [
    "# Pass a command to the ngspice console\n",
    "command_to_ngspice = 'print vout\\n'\n",
    "ngspice_process.stdin.write(command_to_ngspice)\n",
    "#command_to_ngspice1 = 'print all\\n'\n",
    "#ngspice_process.stdin.write(command_to_ngspice1)\n",
    "ngspice_process.stdin.flush()"
   ]
  },
  {
   "cell_type": "code",
   "execution_count": 105,
   "id": "b837df5f-20c8-4a79-b2c8-0d71f2979204",
   "metadata": {},
   "outputs": [
    {
     "name": "stdout",
     "output_type": "stream",
     "text": [
      "[19]\n",
      "Desired data line: vout = 1.500000e+00\n",
      "Desired data: 3.0\n"
     ]
    }
   ],
   "source": [
    "# Read the output from ngspice\n",
    "#output, error = ngspice_process.communicate()\n",
    "\n",
    "# Read the output and extract the desired data\n",
    "lines = output.splitlines()\n",
    "line_index = [index for index, line in enumerate(lines) if line.startswith('vout')]\n",
    "print(line_index)\n",
    "desired_line = lines[line_index[0]]  # Assuming the desired line is at index 19\n",
    "print(\"Desired data line:\", desired_line)\n",
    "\n",
    "#Extract the specific data from the desired line\n",
    "data = desired_line.split('=')[1].strip()  # Assuming the data is after the '='\n",
    "\n",
    "print(\"Desired data:\", float(data))"
   ]
  },
  {
   "cell_type": "code",
   "execution_count": 92,
   "id": "124b261c-2fad-4934-bccd-02d5765ed5dd",
   "metadata": {},
   "outputs": [
    {
     "name": "stdout",
     "output_type": "stream",
     "text": [
      "Output:\n",
      "******\n",
      "** ngspice-36 : Circuit level simulation program\n",
      "** The U. C. Berkeley CAD Group\n",
      "** Copyright 1985-1994, Regents of the University of California.\n",
      "** Copyright 2001-2020, The ngspice team.\n",
      "** Please get your ngspice manual from http://ngspice.sourceforge.net/docs.html\n",
      "** Please file your bug-reports at http://ngspice.sourceforge.net/bugrep.html\n",
      "** Creation Date: Sat Jan  1 18:54:42 UTC 2022\n",
      "******\n",
      "\n",
      "No compatibility mode selected!\n",
      "\n",
      "\n",
      "Circuit: ** sch_path: /home/exotic/desktop/asic_adc/xschem/vth_sch/test_ngspice/test_script1.sch\n",
      "\n",
      "Doing analysis at TEMP = 27.000000 and TNOM = 27.000000\n",
      "\n",
      "\n",
      "No. of Data Rows : 1\n",
      "vout = 1.500000e+00\n",
      "ngspice-36 done\n",
      "\n"
     ]
    }
   ],
   "source": [
    "# Print the output and error messages\n",
    "print(\"Output:\")\n",
    "print(output)\n",
    "if error:\n",
    "    print(\"Error:\")\n",
    "    print(error)"
   ]
  },
  {
   "cell_type": "code",
   "execution_count": null,
   "id": "7442bf38-3302-4b62-b431-2f064aba9087",
   "metadata": {},
   "outputs": [],
   "source": []
  }
 ],
 "metadata": {
  "kernelspec": {
   "display_name": "Python 3 (ipykernel)",
   "language": "python",
   "name": "python3"
  },
  "language_info": {
   "codemirror_mode": {
    "name": "ipython",
    "version": 3
   },
   "file_extension": ".py",
   "mimetype": "text/x-python",
   "name": "python",
   "nbconvert_exporter": "python",
   "pygments_lexer": "ipython3",
   "version": "3.10.12"
  }
 },
 "nbformat": 4,
 "nbformat_minor": 5
}
